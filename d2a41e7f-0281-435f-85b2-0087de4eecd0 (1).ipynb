{
 "cells": [
  {
   "cell_type": "markdown",
   "id": "c81daeeb",
   "metadata": {
    "deletable": false,
    "id": "c81daeeb"
   },
   "source": [
    "# Исследование надежности заемщиков\n"
   ]
  },
  {
   "cell_type": "markdown",
   "id": "744d7639",
   "metadata": {
    "deletable": false,
    "id": "744d7639"
   },
   "source": [
    "## Изучение данных таблицы"
   ]
  },
  {
   "cell_type": "markdown",
   "id": "e7a14c31",
   "metadata": {
    "deletable": false,
    "id": "e7a14c31"
   },
   "source": [
    "Импортирт библиотеки pandas"
   ]
  },
  {
   "cell_type": "code",
   "execution_count": null,
   "id": "7bcf75c9",
   "metadata": {
    "deletable": false,
    "id": "7bcf75c9"
   },
   "outputs": [],
   "source": [
    "import pandas as pd\n",
    "\n",
    "try:\n",
    "    data = pd.read_csv('/datasets/data.csv')\n",
    "except:\n",
    "    data = pd.read_csv('https://code.s3.yandex.net/datasets/data.csv')"
   ]
  },
  {
   "cell_type": "markdown",
   "id": "b8038fe3",
   "metadata": {
    "deletable": false,
    "id": "b8038fe3"
   },
   "source": [
    "Вывод первых 20 строчек датафрейма `data` "
   ]
  },
  {
   "cell_type": "code",
   "execution_count": null,
   "id": "2a7cab99",
   "metadata": {
    "deletable": false,
    "id": "2a7cab99",
    "outputId": "1a8f3ef2-d323-4ec2-ddf7-89670b5944c4"
   },
   "outputs": [
    {
     "data": {
      "text/html": [
       "<div>\n",
       "<style scoped>\n",
       "    .dataframe tbody tr th:only-of-type {\n",
       "        vertical-align: middle;\n",
       "    }\n",
       "\n",
       "    .dataframe tbody tr th {\n",
       "        vertical-align: top;\n",
       "    }\n",
       "\n",
       "    .dataframe thead th {\n",
       "        text-align: right;\n",
       "    }\n",
       "</style>\n",
       "<table border=\"1\" class=\"dataframe\">\n",
       "  <thead>\n",
       "    <tr style=\"text-align: right;\">\n",
       "      <th></th>\n",
       "      <th>children</th>\n",
       "      <th>days_employed</th>\n",
       "      <th>dob_years</th>\n",
       "      <th>education</th>\n",
       "      <th>education_id</th>\n",
       "      <th>family_status</th>\n",
       "      <th>family_status_id</th>\n",
       "      <th>gender</th>\n",
       "      <th>income_type</th>\n",
       "      <th>debt</th>\n",
       "      <th>total_income</th>\n",
       "      <th>purpose</th>\n",
       "    </tr>\n",
       "  </thead>\n",
       "  <tbody>\n",
       "    <tr>\n",
       "      <th>0</th>\n",
       "      <td>1</td>\n",
       "      <td>-8437.673028</td>\n",
       "      <td>42</td>\n",
       "      <td>высшее</td>\n",
       "      <td>0</td>\n",
       "      <td>женат / замужем</td>\n",
       "      <td>0</td>\n",
       "      <td>F</td>\n",
       "      <td>сотрудник</td>\n",
       "      <td>0</td>\n",
       "      <td>253875.639453</td>\n",
       "      <td>покупка жилья</td>\n",
       "    </tr>\n",
       "    <tr>\n",
       "      <th>1</th>\n",
       "      <td>1</td>\n",
       "      <td>-4024.803754</td>\n",
       "      <td>36</td>\n",
       "      <td>среднее</td>\n",
       "      <td>1</td>\n",
       "      <td>женат / замужем</td>\n",
       "      <td>0</td>\n",
       "      <td>F</td>\n",
       "      <td>сотрудник</td>\n",
       "      <td>0</td>\n",
       "      <td>112080.014102</td>\n",
       "      <td>приобретение автомобиля</td>\n",
       "    </tr>\n",
       "    <tr>\n",
       "      <th>2</th>\n",
       "      <td>0</td>\n",
       "      <td>-5623.422610</td>\n",
       "      <td>33</td>\n",
       "      <td>Среднее</td>\n",
       "      <td>1</td>\n",
       "      <td>женат / замужем</td>\n",
       "      <td>0</td>\n",
       "      <td>M</td>\n",
       "      <td>сотрудник</td>\n",
       "      <td>0</td>\n",
       "      <td>145885.952297</td>\n",
       "      <td>покупка жилья</td>\n",
       "    </tr>\n",
       "    <tr>\n",
       "      <th>3</th>\n",
       "      <td>3</td>\n",
       "      <td>-4124.747207</td>\n",
       "      <td>32</td>\n",
       "      <td>среднее</td>\n",
       "      <td>1</td>\n",
       "      <td>женат / замужем</td>\n",
       "      <td>0</td>\n",
       "      <td>M</td>\n",
       "      <td>сотрудник</td>\n",
       "      <td>0</td>\n",
       "      <td>267628.550329</td>\n",
       "      <td>дополнительное образование</td>\n",
       "    </tr>\n",
       "    <tr>\n",
       "      <th>4</th>\n",
       "      <td>0</td>\n",
       "      <td>340266.072047</td>\n",
       "      <td>53</td>\n",
       "      <td>среднее</td>\n",
       "      <td>1</td>\n",
       "      <td>гражданский брак</td>\n",
       "      <td>1</td>\n",
       "      <td>F</td>\n",
       "      <td>пенсионер</td>\n",
       "      <td>0</td>\n",
       "      <td>158616.077870</td>\n",
       "      <td>сыграть свадьбу</td>\n",
       "    </tr>\n",
       "    <tr>\n",
       "      <th>5</th>\n",
       "      <td>0</td>\n",
       "      <td>-926.185831</td>\n",
       "      <td>27</td>\n",
       "      <td>высшее</td>\n",
       "      <td>0</td>\n",
       "      <td>гражданский брак</td>\n",
       "      <td>1</td>\n",
       "      <td>M</td>\n",
       "      <td>компаньон</td>\n",
       "      <td>0</td>\n",
       "      <td>255763.565419</td>\n",
       "      <td>покупка жилья</td>\n",
       "    </tr>\n",
       "    <tr>\n",
       "      <th>6</th>\n",
       "      <td>0</td>\n",
       "      <td>-2879.202052</td>\n",
       "      <td>43</td>\n",
       "      <td>высшее</td>\n",
       "      <td>0</td>\n",
       "      <td>женат / замужем</td>\n",
       "      <td>0</td>\n",
       "      <td>F</td>\n",
       "      <td>компаньон</td>\n",
       "      <td>0</td>\n",
       "      <td>240525.971920</td>\n",
       "      <td>операции с жильем</td>\n",
       "    </tr>\n",
       "    <tr>\n",
       "      <th>7</th>\n",
       "      <td>0</td>\n",
       "      <td>-152.779569</td>\n",
       "      <td>50</td>\n",
       "      <td>СРЕДНЕЕ</td>\n",
       "      <td>1</td>\n",
       "      <td>женат / замужем</td>\n",
       "      <td>0</td>\n",
       "      <td>M</td>\n",
       "      <td>сотрудник</td>\n",
       "      <td>0</td>\n",
       "      <td>135823.934197</td>\n",
       "      <td>образование</td>\n",
       "    </tr>\n",
       "    <tr>\n",
       "      <th>8</th>\n",
       "      <td>2</td>\n",
       "      <td>-6929.865299</td>\n",
       "      <td>35</td>\n",
       "      <td>ВЫСШЕЕ</td>\n",
       "      <td>0</td>\n",
       "      <td>гражданский брак</td>\n",
       "      <td>1</td>\n",
       "      <td>F</td>\n",
       "      <td>сотрудник</td>\n",
       "      <td>0</td>\n",
       "      <td>95856.832424</td>\n",
       "      <td>на проведение свадьбы</td>\n",
       "    </tr>\n",
       "    <tr>\n",
       "      <th>9</th>\n",
       "      <td>0</td>\n",
       "      <td>-2188.756445</td>\n",
       "      <td>41</td>\n",
       "      <td>среднее</td>\n",
       "      <td>1</td>\n",
       "      <td>женат / замужем</td>\n",
       "      <td>0</td>\n",
       "      <td>M</td>\n",
       "      <td>сотрудник</td>\n",
       "      <td>0</td>\n",
       "      <td>144425.938277</td>\n",
       "      <td>покупка жилья для семьи</td>\n",
       "    </tr>\n",
       "    <tr>\n",
       "      <th>10</th>\n",
       "      <td>2</td>\n",
       "      <td>-4171.483647</td>\n",
       "      <td>36</td>\n",
       "      <td>высшее</td>\n",
       "      <td>0</td>\n",
       "      <td>женат / замужем</td>\n",
       "      <td>0</td>\n",
       "      <td>M</td>\n",
       "      <td>компаньон</td>\n",
       "      <td>0</td>\n",
       "      <td>113943.491460</td>\n",
       "      <td>покупка недвижимости</td>\n",
       "    </tr>\n",
       "    <tr>\n",
       "      <th>11</th>\n",
       "      <td>0</td>\n",
       "      <td>-792.701887</td>\n",
       "      <td>40</td>\n",
       "      <td>среднее</td>\n",
       "      <td>1</td>\n",
       "      <td>женат / замужем</td>\n",
       "      <td>0</td>\n",
       "      <td>F</td>\n",
       "      <td>сотрудник</td>\n",
       "      <td>0</td>\n",
       "      <td>77069.234271</td>\n",
       "      <td>покупка коммерческой недвижимости</td>\n",
       "    </tr>\n",
       "    <tr>\n",
       "      <th>12</th>\n",
       "      <td>0</td>\n",
       "      <td>NaN</td>\n",
       "      <td>65</td>\n",
       "      <td>среднее</td>\n",
       "      <td>1</td>\n",
       "      <td>гражданский брак</td>\n",
       "      <td>1</td>\n",
       "      <td>M</td>\n",
       "      <td>пенсионер</td>\n",
       "      <td>0</td>\n",
       "      <td>NaN</td>\n",
       "      <td>сыграть свадьбу</td>\n",
       "    </tr>\n",
       "    <tr>\n",
       "      <th>13</th>\n",
       "      <td>0</td>\n",
       "      <td>-1846.641941</td>\n",
       "      <td>54</td>\n",
       "      <td>неоконченное высшее</td>\n",
       "      <td>2</td>\n",
       "      <td>женат / замужем</td>\n",
       "      <td>0</td>\n",
       "      <td>F</td>\n",
       "      <td>сотрудник</td>\n",
       "      <td>0</td>\n",
       "      <td>130458.228857</td>\n",
       "      <td>приобретение автомобиля</td>\n",
       "    </tr>\n",
       "    <tr>\n",
       "      <th>14</th>\n",
       "      <td>0</td>\n",
       "      <td>-1844.956182</td>\n",
       "      <td>56</td>\n",
       "      <td>высшее</td>\n",
       "      <td>0</td>\n",
       "      <td>гражданский брак</td>\n",
       "      <td>1</td>\n",
       "      <td>F</td>\n",
       "      <td>компаньон</td>\n",
       "      <td>1</td>\n",
       "      <td>165127.911772</td>\n",
       "      <td>покупка жилой недвижимости</td>\n",
       "    </tr>\n",
       "    <tr>\n",
       "      <th>15</th>\n",
       "      <td>1</td>\n",
       "      <td>-972.364419</td>\n",
       "      <td>26</td>\n",
       "      <td>среднее</td>\n",
       "      <td>1</td>\n",
       "      <td>женат / замужем</td>\n",
       "      <td>0</td>\n",
       "      <td>F</td>\n",
       "      <td>сотрудник</td>\n",
       "      <td>0</td>\n",
       "      <td>116820.904450</td>\n",
       "      <td>строительство собственной недвижимости</td>\n",
       "    </tr>\n",
       "    <tr>\n",
       "      <th>16</th>\n",
       "      <td>0</td>\n",
       "      <td>-1719.934226</td>\n",
       "      <td>35</td>\n",
       "      <td>среднее</td>\n",
       "      <td>1</td>\n",
       "      <td>женат / замужем</td>\n",
       "      <td>0</td>\n",
       "      <td>F</td>\n",
       "      <td>сотрудник</td>\n",
       "      <td>0</td>\n",
       "      <td>289202.704229</td>\n",
       "      <td>недвижимость</td>\n",
       "    </tr>\n",
       "    <tr>\n",
       "      <th>17</th>\n",
       "      <td>0</td>\n",
       "      <td>-2369.999720</td>\n",
       "      <td>33</td>\n",
       "      <td>высшее</td>\n",
       "      <td>0</td>\n",
       "      <td>гражданский брак</td>\n",
       "      <td>1</td>\n",
       "      <td>M</td>\n",
       "      <td>сотрудник</td>\n",
       "      <td>0</td>\n",
       "      <td>90410.586745</td>\n",
       "      <td>строительство недвижимости</td>\n",
       "    </tr>\n",
       "    <tr>\n",
       "      <th>18</th>\n",
       "      <td>0</td>\n",
       "      <td>400281.136913</td>\n",
       "      <td>53</td>\n",
       "      <td>среднее</td>\n",
       "      <td>1</td>\n",
       "      <td>вдовец / вдова</td>\n",
       "      <td>2</td>\n",
       "      <td>F</td>\n",
       "      <td>пенсионер</td>\n",
       "      <td>0</td>\n",
       "      <td>56823.777243</td>\n",
       "      <td>на покупку подержанного автомобиля</td>\n",
       "    </tr>\n",
       "    <tr>\n",
       "      <th>19</th>\n",
       "      <td>0</td>\n",
       "      <td>-10038.818549</td>\n",
       "      <td>48</td>\n",
       "      <td>СРЕДНЕЕ</td>\n",
       "      <td>1</td>\n",
       "      <td>в разводе</td>\n",
       "      <td>3</td>\n",
       "      <td>F</td>\n",
       "      <td>сотрудник</td>\n",
       "      <td>0</td>\n",
       "      <td>242831.107982</td>\n",
       "      <td>на покупку своего автомобиля</td>\n",
       "    </tr>\n",
       "  </tbody>\n",
       "</table>\n",
       "</div>"
      ],
      "text/plain": [
       "    children  days_employed  dob_years            education  education_id  \\\n",
       "0          1   -8437.673028         42               высшее             0   \n",
       "1          1   -4024.803754         36              среднее             1   \n",
       "2          0   -5623.422610         33              Среднее             1   \n",
       "3          3   -4124.747207         32              среднее             1   \n",
       "4          0  340266.072047         53              среднее             1   \n",
       "5          0    -926.185831         27               высшее             0   \n",
       "6          0   -2879.202052         43               высшее             0   \n",
       "7          0    -152.779569         50              СРЕДНЕЕ             1   \n",
       "8          2   -6929.865299         35               ВЫСШЕЕ             0   \n",
       "9          0   -2188.756445         41              среднее             1   \n",
       "10         2   -4171.483647         36               высшее             0   \n",
       "11         0    -792.701887         40              среднее             1   \n",
       "12         0            NaN         65              среднее             1   \n",
       "13         0   -1846.641941         54  неоконченное высшее             2   \n",
       "14         0   -1844.956182         56               высшее             0   \n",
       "15         1    -972.364419         26              среднее             1   \n",
       "16         0   -1719.934226         35              среднее             1   \n",
       "17         0   -2369.999720         33               высшее             0   \n",
       "18         0  400281.136913         53              среднее             1   \n",
       "19         0  -10038.818549         48              СРЕДНЕЕ             1   \n",
       "\n",
       "       family_status  family_status_id gender income_type  debt  \\\n",
       "0    женат / замужем                 0      F   сотрудник     0   \n",
       "1    женат / замужем                 0      F   сотрудник     0   \n",
       "2    женат / замужем                 0      M   сотрудник     0   \n",
       "3    женат / замужем                 0      M   сотрудник     0   \n",
       "4   гражданский брак                 1      F   пенсионер     0   \n",
       "5   гражданский брак                 1      M   компаньон     0   \n",
       "6    женат / замужем                 0      F   компаньон     0   \n",
       "7    женат / замужем                 0      M   сотрудник     0   \n",
       "8   гражданский брак                 1      F   сотрудник     0   \n",
       "9    женат / замужем                 0      M   сотрудник     0   \n",
       "10   женат / замужем                 0      M   компаньон     0   \n",
       "11   женат / замужем                 0      F   сотрудник     0   \n",
       "12  гражданский брак                 1      M   пенсионер     0   \n",
       "13   женат / замужем                 0      F   сотрудник     0   \n",
       "14  гражданский брак                 1      F   компаньон     1   \n",
       "15   женат / замужем                 0      F   сотрудник     0   \n",
       "16   женат / замужем                 0      F   сотрудник     0   \n",
       "17  гражданский брак                 1      M   сотрудник     0   \n",
       "18    вдовец / вдова                 2      F   пенсионер     0   \n",
       "19         в разводе                 3      F   сотрудник     0   \n",
       "\n",
       "     total_income                                 purpose  \n",
       "0   253875.639453                           покупка жилья  \n",
       "1   112080.014102                 приобретение автомобиля  \n",
       "2   145885.952297                           покупка жилья  \n",
       "3   267628.550329              дополнительное образование  \n",
       "4   158616.077870                         сыграть свадьбу  \n",
       "5   255763.565419                           покупка жилья  \n",
       "6   240525.971920                       операции с жильем  \n",
       "7   135823.934197                             образование  \n",
       "8    95856.832424                   на проведение свадьбы  \n",
       "9   144425.938277                 покупка жилья для семьи  \n",
       "10  113943.491460                    покупка недвижимости  \n",
       "11   77069.234271       покупка коммерческой недвижимости  \n",
       "12            NaN                         сыграть свадьбу  \n",
       "13  130458.228857                 приобретение автомобиля  \n",
       "14  165127.911772              покупка жилой недвижимости  \n",
       "15  116820.904450  строительство собственной недвижимости  \n",
       "16  289202.704229                            недвижимость  \n",
       "17   90410.586745              строительство недвижимости  \n",
       "18   56823.777243      на покупку подержанного автомобиля  \n",
       "19  242831.107982            на покупку своего автомобиля  "
      ]
     },
     "execution_count": 2,
     "metadata": {},
     "output_type": "execute_result"
    }
   ],
   "source": [
    "data.head(20)"
   ]
  },
  {
   "cell_type": "markdown",
   "id": "1c12e233",
   "metadata": {
    "deletable": false,
    "id": "1c12e233"
   },
   "source": [
    "Основную информацию о датафрейме "
   ]
  },
  {
   "cell_type": "code",
   "execution_count": null,
   "id": "2b757bca",
   "metadata": {
    "deletable": false,
    "id": "2b757bca",
    "outputId": "15376089-8dad-46c9-b520-c05248d43158"
   },
   "outputs": [
    {
     "name": "stdout",
     "output_type": "stream",
     "text": [
      "<class 'pandas.core.frame.DataFrame'>\n",
      "RangeIndex: 21525 entries, 0 to 21524\n",
      "Data columns (total 12 columns):\n",
      " #   Column            Non-Null Count  Dtype  \n",
      "---  ------            --------------  -----  \n",
      " 0   children          21525 non-null  int64  \n",
      " 1   days_employed     19351 non-null  float64\n",
      " 2   dob_years         21525 non-null  int64  \n",
      " 3   education         21525 non-null  object \n",
      " 4   education_id      21525 non-null  int64  \n",
      " 5   family_status     21525 non-null  object \n",
      " 6   family_status_id  21525 non-null  int64  \n",
      " 7   gender            21525 non-null  object \n",
      " 8   income_type       21525 non-null  object \n",
      " 9   debt              21525 non-null  int64  \n",
      " 10  total_income      19351 non-null  float64\n",
      " 11  purpose           21525 non-null  object \n",
      "dtypes: float64(2), int64(5), object(5)\n",
      "memory usage: 2.0+ MB\n"
     ]
    }
   ],
   "source": [
    "data.info()"
   ]
  },
  {
   "cell_type": "markdown",
   "id": "333ec665",
   "metadata": {
    "deletable": false,
    "id": "333ec665"
   },
   "source": [
    "## Предобработка данных"
   ]
  },
  {
   "cell_type": "markdown",
   "id": "02d92d53",
   "metadata": {
    "deletable": false,
    "id": "02d92d53"
   },
   "source": [
    "### Удаление пропусков"
   ]
  },
  {
   "cell_type": "markdown",
   "id": "cd84967c",
   "metadata": {
    "deletable": false,
    "id": "cd84967c"
   },
   "source": [
    "Количество пропущенных значений для каждого столбца"
   ]
  },
  {
   "cell_type": "code",
   "execution_count": null,
   "id": "7f9b2309",
   "metadata": {
    "deletable": false,
    "id": "7f9b2309",
    "outputId": "81f4d817-781c-465c-ed15-91ce4446810d"
   },
   "outputs": [
    {
     "data": {
      "text/plain": [
       "children               0\n",
       "days_employed       2174\n",
       "dob_years              0\n",
       "education              0\n",
       "education_id           0\n",
       "family_status          0\n",
       "family_status_id       0\n",
       "gender                 0\n",
       "income_type            0\n",
       "debt                   0\n",
       "total_income        2174\n",
       "purpose                0\n",
       "dtype: int64"
      ]
     },
     "execution_count": 4,
     "metadata": {},
     "output_type": "execute_result"
    }
   ],
   "source": [
    "data.isna().sum()"
   ]
  },
  {
   "cell_type": "markdown",
   "id": "db86e27b",
   "metadata": {
    "deletable": false,
    "id": "db86e27b"
   },
   "source": [
    " В двух столбцах есть пропущенные значения. Один из них — `days_employed`.Другой столбец с пропущенными значениями — `total_income` — хранит данные о доходах. На сумму дохода сильнее всего влияет тип занятости, поэтому заполнить пропуски в этом столбце нужно медианным значением по каждому типу из столбца `income_type`. Например, у человека с типом занятости `сотрудник` пропуск в столбце `total_income` должен быть заполнен медианным доходом среди всех записей с тем же типом"
   ]
  },
  {
   "cell_type": "code",
   "execution_count": null,
   "id": "42006a93",
   "metadata": {
    "deletable": false,
    "id": "42006a93"
   },
   "outputs": [],
   "source": [
    "for t in data['income_type'].unique():\n",
    "    data.loc[(data['income_type'] == t) & (data['total_income'].isna()), 'total_income'] = \\\n",
    "    data.loc[(data['income_type'] == t), 'total_income'].median()"
   ]
  },
  {
   "cell_type": "markdown",
   "id": "89da5ece",
   "metadata": {
    "deletable": false,
    "id": "89da5ece"
   },
   "source": [
    "### Обработка аномальных значений"
   ]
  },
  {
   "cell_type": "markdown",
   "id": "57964554",
   "metadata": {
    "deletable": false,
    "id": "57964554"
   },
   "source": [
    "В данных могут встречаются артефакты (аномалии) — значения, которые не отражают действительность и появились по какой-то ошибке. таким артефактом будет отрицательное количество дней трудового стажа в столбце `days_employed`. Для реальных данных это нормально."
   ]
  },
  {
   "cell_type": "code",
   "execution_count": null,
   "id": "f6f055bf",
   "metadata": {
    "deletable": false,
    "id": "f6f055bf"
   },
   "outputs": [],
   "source": [
    "data['days_employed'] = data['days_employed'].abs()"
   ]
  },
  {
   "cell_type": "markdown",
   "id": "6107dd2f",
   "metadata": {
    "deletable": false,
    "id": "6107dd2f"
   },
   "source": [
    "Для каждого типа занятости выведеим медианное значение трудового стажа `days_employed` в днях"
   ]
  },
  {
   "cell_type": "code",
   "execution_count": null,
   "id": "85a5faf6",
   "metadata": {
    "deletable": false,
    "id": "85a5faf6",
    "outputId": "801ef80e-522b-4668-f34e-565af7432bcf"
   },
   "outputs": [
    {
     "data": {
      "text/plain": [
       "income_type\n",
       "безработный        366413.652744\n",
       "в декрете            3296.759962\n",
       "госслужащий          2689.368353\n",
       "компаньон            1547.382223\n",
       "пенсионер          365213.306266\n",
       "предприниматель       520.848083\n",
       "сотрудник            1574.202821\n",
       "студент               578.751554\n",
       "Name: days_employed, dtype: float64"
      ]
     },
     "execution_count": 7,
     "metadata": {},
     "output_type": "execute_result"
    }
   ],
   "source": [
    "data.groupby('income_type')['days_employed'].agg('median')"
   ]
  },
  {
   "cell_type": "markdown",
   "id": "38d1a030",
   "metadata": {
    "deletable": false,
    "id": "38d1a030"
   },
   "source": [
    "У двух типов (безработные и пенсионеры) получатся аномально большие значения. Исправить такие значения сложно, поэтому оставьте их как есть. Тем более этот столбец не понадобится вам для исследования."
   ]
  },
  {
   "cell_type": "markdown",
   "id": "d8a9f147",
   "metadata": {
    "deletable": false,
    "id": "d8a9f147"
   },
   "source": [
    "Перечень уникальных значений столбца `children`."
   ]
  },
  {
   "cell_type": "code",
   "execution_count": null,
   "id": "ef5056eb",
   "metadata": {
    "deletable": false,
    "id": "ef5056eb",
    "outputId": "6975b15c-7f95-4697-d16d-a0c79b657b03"
   },
   "outputs": [
    {
     "data": {
      "text/plain": [
       "array([ 1,  0,  3,  2, -1,  4, 20,  5])"
      ]
     },
     "execution_count": 8,
     "metadata": {},
     "output_type": "execute_result"
    }
   ],
   "source": [
    "data['children'].unique()"
   ]
  },
  {
   "cell_type": "markdown",
   "id": "40b9ebf2",
   "metadata": {
    "deletable": false,
    "id": "40b9ebf2"
   },
   "source": [
    "В столбце `children` есть два аномальных значения. Удалим строки, в которых встречаются такие аномальные значения"
   ]
  },
  {
   "cell_type": "code",
   "execution_count": null,
   "id": "3ff9801d",
   "metadata": {
    "deletable": false,
    "id": "3ff9801d"
   },
   "outputs": [],
   "source": [
    "data = data[(data['children'] != -1) & (data['children'] != 20)]"
   ]
  },
  {
   "cell_type": "code",
   "execution_count": null,
   "id": "ad4fa8b7",
   "metadata": {
    "deletable": false,
    "id": "ad4fa8b7",
    "outputId": "b2097101-d49d-44d9-901b-32a65c9463d1"
   },
   "outputs": [
    {
     "data": {
      "text/plain": [
       "array([1, 0, 3, 2, 4, 5])"
      ]
     },
     "execution_count": 10,
     "metadata": {},
     "output_type": "execute_result"
    }
   ],
   "source": [
    "data['children'].unique()"
   ]
  },
  {
   "cell_type": "markdown",
   "id": "75440b63",
   "metadata": {
    "deletable": false,
    "id": "75440b63"
   },
   "source": [
    "### Удаление пропусков (продолжение)"
   ]
  },
  {
   "cell_type": "markdown",
   "id": "f4ea573f",
   "metadata": {
    "deletable": false,
    "id": "f4ea573f"
   },
   "source": [
    "Пропуски в столбце `days_employed` заполняем медианными значениями по каждого типа занятости `income_type`."
   ]
  },
  {
   "cell_type": "code",
   "execution_count": null,
   "id": "af6b1a7e",
   "metadata": {
    "deletable": false,
    "id": "af6b1a7e"
   },
   "outputs": [],
   "source": [
    "for t in data['income_type'].unique():\n",
    "    data.loc[(data['income_type'] == t) & (data['days_employed'].isna()), 'days_employed'] = \\\n",
    "    data.loc[(data['income_type'] == t), 'days_employed'].median()"
   ]
  },
  {
   "cell_type": "code",
   "execution_count": null,
   "id": "55f78bc2",
   "metadata": {
    "deletable": false,
    "id": "55f78bc2",
    "outputId": "8da1e4e1-358e-4e87-98c9-f261bce0a7b2"
   },
   "outputs": [
    {
     "data": {
      "text/plain": [
       "children            0\n",
       "days_employed       0\n",
       "dob_years           0\n",
       "education           0\n",
       "education_id        0\n",
       "family_status       0\n",
       "family_status_id    0\n",
       "gender              0\n",
       "income_type         0\n",
       "debt                0\n",
       "total_income        0\n",
       "purpose             0\n",
       "dtype: int64"
      ]
     },
     "execution_count": 12,
     "metadata": {},
     "output_type": "execute_result"
    }
   ],
   "source": [
    "data.isna().sum()"
   ]
  },
  {
   "cell_type": "markdown",
   "id": "ddc81e43",
   "metadata": {
    "deletable": false,
    "id": "ddc81e43"
   },
   "source": [
    "### Изменение типов данных"
   ]
  },
  {
   "cell_type": "markdown",
   "id": "42d19d24",
   "metadata": {
    "deletable": false,
    "id": "42d19d24"
   },
   "source": [
    "Заменим вещественный тип данных в столбце `total_income` на целочисленный"
   ]
  },
  {
   "cell_type": "code",
   "execution_count": null,
   "id": "920b65ad",
   "metadata": {
    "deletable": false,
    "id": "920b65ad"
   },
   "outputs": [],
   "source": [
    "data['total_income'] = data['total_income'].astype(int)"
   ]
  },
  {
   "cell_type": "markdown",
   "id": "80c420ba",
   "metadata": {
    "deletable": false,
    "id": "80c420ba"
   },
   "source": [
    "### Обработка дубликатов"
   ]
  },
  {
   "cell_type": "markdown",
   "id": "dc587695",
   "metadata": {
    "deletable": false,
    "id": "dc587695"
   },
   "source": [
    "Выведем колличсво дупликатов и удалим строки где они есть"
   ]
  },
  {
   "cell_type": "code",
   "execution_count": null,
   "id": "3ee445e4",
   "metadata": {
    "deletable": false,
    "id": "3ee445e4",
    "outputId": "9684deba-1934-42d1-99e1-cda61740f822"
   },
   "outputs": [
    {
     "data": {
      "text/plain": [
       "54"
      ]
     },
     "execution_count": 14,
     "metadata": {},
     "output_type": "execute_result"
    }
   ],
   "source": [
    "data.duplicated().sum()"
   ]
  },
  {
   "cell_type": "code",
   "execution_count": null,
   "id": "8575fe05",
   "metadata": {
    "deletable": false,
    "id": "8575fe05"
   },
   "outputs": [
    {
     "data": {
      "text/html": [
       "<div>\n",
       "<style scoped>\n",
       "    .dataframe tbody tr th:only-of-type {\n",
       "        vertical-align: middle;\n",
       "    }\n",
       "\n",
       "    .dataframe tbody tr th {\n",
       "        vertical-align: top;\n",
       "    }\n",
       "\n",
       "    .dataframe thead th {\n",
       "        text-align: right;\n",
       "    }\n",
       "</style>\n",
       "<table border=\"1\" class=\"dataframe\">\n",
       "  <thead>\n",
       "    <tr style=\"text-align: right;\">\n",
       "      <th></th>\n",
       "      <th>children</th>\n",
       "      <th>days_employed</th>\n",
       "      <th>dob_years</th>\n",
       "      <th>education</th>\n",
       "      <th>education_id</th>\n",
       "      <th>family_status</th>\n",
       "      <th>family_status_id</th>\n",
       "      <th>gender</th>\n",
       "      <th>income_type</th>\n",
       "      <th>debt</th>\n",
       "      <th>total_income</th>\n",
       "      <th>purpose</th>\n",
       "      <th>total_income_category</th>\n",
       "      <th>purpose_category</th>\n",
       "      <th>categorize_children</th>\n",
       "    </tr>\n",
       "  </thead>\n",
       "  <tbody>\n",
       "    <tr>\n",
       "      <th>0</th>\n",
       "      <td>1</td>\n",
       "      <td>8437.673028</td>\n",
       "      <td>42</td>\n",
       "      <td>высшее</td>\n",
       "      <td>0</td>\n",
       "      <td>женат / замужем</td>\n",
       "      <td>0</td>\n",
       "      <td>F</td>\n",
       "      <td>сотрудник</td>\n",
       "      <td>0</td>\n",
       "      <td>253875</td>\n",
       "      <td>покупка жилья</td>\n",
       "      <td>B</td>\n",
       "      <td>операции с недвижимостью</td>\n",
       "      <td>1 ребенок</td>\n",
       "    </tr>\n",
       "    <tr>\n",
       "      <th>1</th>\n",
       "      <td>1</td>\n",
       "      <td>4024.803754</td>\n",
       "      <td>36</td>\n",
       "      <td>среднее</td>\n",
       "      <td>1</td>\n",
       "      <td>женат / замужем</td>\n",
       "      <td>0</td>\n",
       "      <td>F</td>\n",
       "      <td>сотрудник</td>\n",
       "      <td>0</td>\n",
       "      <td>112080</td>\n",
       "      <td>приобретение автомобиля</td>\n",
       "      <td>C</td>\n",
       "      <td>операции с автомобилем</td>\n",
       "      <td>1 ребенок</td>\n",
       "    </tr>\n",
       "    <tr>\n",
       "      <th>2</th>\n",
       "      <td>0</td>\n",
       "      <td>5623.422610</td>\n",
       "      <td>33</td>\n",
       "      <td>среднее</td>\n",
       "      <td>1</td>\n",
       "      <td>женат / замужем</td>\n",
       "      <td>0</td>\n",
       "      <td>M</td>\n",
       "      <td>сотрудник</td>\n",
       "      <td>0</td>\n",
       "      <td>145885</td>\n",
       "      <td>покупка жилья</td>\n",
       "      <td>C</td>\n",
       "      <td>операции с недвижимостью</td>\n",
       "      <td>нет детей</td>\n",
       "    </tr>\n",
       "    <tr>\n",
       "      <th>3</th>\n",
       "      <td>3</td>\n",
       "      <td>4124.747207</td>\n",
       "      <td>32</td>\n",
       "      <td>среднее</td>\n",
       "      <td>1</td>\n",
       "      <td>женат / замужем</td>\n",
       "      <td>0</td>\n",
       "      <td>M</td>\n",
       "      <td>сотрудник</td>\n",
       "      <td>0</td>\n",
       "      <td>267628</td>\n",
       "      <td>дополнительное образование</td>\n",
       "      <td>B</td>\n",
       "      <td>получение образования</td>\n",
       "      <td>многодетная семья</td>\n",
       "    </tr>\n",
       "    <tr>\n",
       "      <th>4</th>\n",
       "      <td>0</td>\n",
       "      <td>340266.072047</td>\n",
       "      <td>53</td>\n",
       "      <td>среднее</td>\n",
       "      <td>1</td>\n",
       "      <td>гражданский брак</td>\n",
       "      <td>1</td>\n",
       "      <td>F</td>\n",
       "      <td>пенсионер</td>\n",
       "      <td>0</td>\n",
       "      <td>158616</td>\n",
       "      <td>сыграть свадьбу</td>\n",
       "      <td>C</td>\n",
       "      <td>проведение свадьбы</td>\n",
       "      <td>нет детей</td>\n",
       "    </tr>\n",
       "    <tr>\n",
       "      <th>...</th>\n",
       "      <td>...</td>\n",
       "      <td>...</td>\n",
       "      <td>...</td>\n",
       "      <td>...</td>\n",
       "      <td>...</td>\n",
       "      <td>...</td>\n",
       "      <td>...</td>\n",
       "      <td>...</td>\n",
       "      <td>...</td>\n",
       "      <td>...</td>\n",
       "      <td>...</td>\n",
       "      <td>...</td>\n",
       "      <td>...</td>\n",
       "      <td>...</td>\n",
       "      <td>...</td>\n",
       "    </tr>\n",
       "    <tr>\n",
       "      <th>21520</th>\n",
       "      <td>1</td>\n",
       "      <td>4529.316663</td>\n",
       "      <td>43</td>\n",
       "      <td>среднее</td>\n",
       "      <td>1</td>\n",
       "      <td>гражданский брак</td>\n",
       "      <td>1</td>\n",
       "      <td>F</td>\n",
       "      <td>компаньон</td>\n",
       "      <td>0</td>\n",
       "      <td>224791</td>\n",
       "      <td>операции с жильем</td>\n",
       "      <td>B</td>\n",
       "      <td>операции с недвижимостью</td>\n",
       "      <td>1 ребенок</td>\n",
       "    </tr>\n",
       "    <tr>\n",
       "      <th>21521</th>\n",
       "      <td>0</td>\n",
       "      <td>343937.404131</td>\n",
       "      <td>67</td>\n",
       "      <td>среднее</td>\n",
       "      <td>1</td>\n",
       "      <td>женат / замужем</td>\n",
       "      <td>0</td>\n",
       "      <td>F</td>\n",
       "      <td>пенсионер</td>\n",
       "      <td>0</td>\n",
       "      <td>155999</td>\n",
       "      <td>сделка с автомобилем</td>\n",
       "      <td>C</td>\n",
       "      <td>операции с автомобилем</td>\n",
       "      <td>нет детей</td>\n",
       "    </tr>\n",
       "    <tr>\n",
       "      <th>21522</th>\n",
       "      <td>1</td>\n",
       "      <td>2113.346888</td>\n",
       "      <td>38</td>\n",
       "      <td>среднее</td>\n",
       "      <td>1</td>\n",
       "      <td>гражданский брак</td>\n",
       "      <td>1</td>\n",
       "      <td>M</td>\n",
       "      <td>сотрудник</td>\n",
       "      <td>1</td>\n",
       "      <td>89672</td>\n",
       "      <td>недвижимость</td>\n",
       "      <td>C</td>\n",
       "      <td>операции с недвижимостью</td>\n",
       "      <td>1 ребенок</td>\n",
       "    </tr>\n",
       "    <tr>\n",
       "      <th>21523</th>\n",
       "      <td>3</td>\n",
       "      <td>3112.481705</td>\n",
       "      <td>38</td>\n",
       "      <td>среднее</td>\n",
       "      <td>1</td>\n",
       "      <td>женат / замужем</td>\n",
       "      <td>0</td>\n",
       "      <td>M</td>\n",
       "      <td>сотрудник</td>\n",
       "      <td>1</td>\n",
       "      <td>244093</td>\n",
       "      <td>на покупку своего автомобиля</td>\n",
       "      <td>B</td>\n",
       "      <td>операции с автомобилем</td>\n",
       "      <td>многодетная семья</td>\n",
       "    </tr>\n",
       "    <tr>\n",
       "      <th>21524</th>\n",
       "      <td>2</td>\n",
       "      <td>1984.507589</td>\n",
       "      <td>40</td>\n",
       "      <td>среднее</td>\n",
       "      <td>1</td>\n",
       "      <td>женат / замужем</td>\n",
       "      <td>0</td>\n",
       "      <td>F</td>\n",
       "      <td>сотрудник</td>\n",
       "      <td>0</td>\n",
       "      <td>82047</td>\n",
       "      <td>на покупку автомобиля</td>\n",
       "      <td>C</td>\n",
       "      <td>операции с автомобилем</td>\n",
       "      <td>2 ребенка</td>\n",
       "    </tr>\n",
       "  </tbody>\n",
       "</table>\n",
       "<p>21331 rows × 15 columns</p>\n",
       "</div>"
      ],
      "text/plain": [
       "       children  days_employed  dob_years education  education_id  \\\n",
       "0             1    8437.673028         42    высшее             0   \n",
       "1             1    4024.803754         36   среднее             1   \n",
       "2             0    5623.422610         33   среднее             1   \n",
       "3             3    4124.747207         32   среднее             1   \n",
       "4             0  340266.072047         53   среднее             1   \n",
       "...         ...            ...        ...       ...           ...   \n",
       "21520         1    4529.316663         43   среднее             1   \n",
       "21521         0  343937.404131         67   среднее             1   \n",
       "21522         1    2113.346888         38   среднее             1   \n",
       "21523         3    3112.481705         38   среднее             1   \n",
       "21524         2    1984.507589         40   среднее             1   \n",
       "\n",
       "          family_status  family_status_id gender income_type  debt  \\\n",
       "0       женат / замужем                 0      F   сотрудник     0   \n",
       "1       женат / замужем                 0      F   сотрудник     0   \n",
       "2       женат / замужем                 0      M   сотрудник     0   \n",
       "3       женат / замужем                 0      M   сотрудник     0   \n",
       "4      гражданский брак                 1      F   пенсионер     0   \n",
       "...                 ...               ...    ...         ...   ...   \n",
       "21520  гражданский брак                 1      F   компаньон     0   \n",
       "21521   женат / замужем                 0      F   пенсионер     0   \n",
       "21522  гражданский брак                 1      M   сотрудник     1   \n",
       "21523   женат / замужем                 0      M   сотрудник     1   \n",
       "21524   женат / замужем                 0      F   сотрудник     0   \n",
       "\n",
       "       total_income                       purpose total_income_category  \\\n",
       "0            253875                 покупка жилья                     B   \n",
       "1            112080       приобретение автомобиля                     C   \n",
       "2            145885                 покупка жилья                     C   \n",
       "3            267628    дополнительное образование                     B   \n",
       "4            158616               сыграть свадьбу                     C   \n",
       "...             ...                           ...                   ...   \n",
       "21520        224791             операции с жильем                     B   \n",
       "21521        155999          сделка с автомобилем                     C   \n",
       "21522         89672                  недвижимость                     C   \n",
       "21523        244093  на покупку своего автомобиля                     B   \n",
       "21524         82047         на покупку автомобиля                     C   \n",
       "\n",
       "               purpose_category categorize_children  \n",
       "0      операции с недвижимостью           1 ребенок  \n",
       "1        операции с автомобилем           1 ребенок  \n",
       "2      операции с недвижимостью           нет детей  \n",
       "3         получение образования   многодетная семья  \n",
       "4            проведение свадьбы           нет детей  \n",
       "...                         ...                 ...  \n",
       "21520  операции с недвижимостью           1 ребенок  \n",
       "21521    операции с автомобилем           нет детей  \n",
       "21522  операции с недвижимостью           1 ребенок  \n",
       "21523    операции с автомобилем   многодетная семья  \n",
       "21524    операции с автомобилем           2 ребенка  \n",
       "\n",
       "[21331 rows x 15 columns]"
      ]
     },
     "execution_count": 34,
     "metadata": {},
     "output_type": "execute_result"
    }
   ],
   "source": [
    "data = data.drop_duplicates()"
   ]
  },
  {
   "cell_type": "markdown",
   "id": "9771a76c",
   "metadata": {
    "deletable": false,
    "id": "9771a76c"
   },
   "source": [
    "Обработка неявных дубликатов в столбце `education`. В этом столбце есть одни и те же значения, но записанные по-разному: с использованием заглавных и строчных букв. "
   ]
  },
  {
   "cell_type": "code",
   "execution_count": null,
   "id": "a9f8e2bf",
   "metadata": {
    "deletable": false,
    "id": "a9f8e2bf"
   },
   "outputs": [],
   "source": [
    "data['education'] = data['education'].str.lower()"
   ]
  },
  {
   "cell_type": "markdown",
   "id": "9904cf55",
   "metadata": {
    "deletable": false,
    "id": "9904cf55"
   },
   "source": [
    "### Категоризация данных"
   ]
  },
  {
   "cell_type": "markdown",
   "id": "72fcc8a2",
   "metadata": {
    "deletable": false,
    "id": "72fcc8a2"
   },
   "source": [
    "На основании диапазонов, указанных ниже, создадим в датафрейме `data` столбец `total_income_category` с категориями:\n",
    "\n",
    "- 0–30000 — `'E'`;\n",
    "- 30001–50000 — `'D'`;\n",
    "- 50001–200000 — `'C'`;\n",
    "- 200001–1000000 — `'B'`;\n",
    "- 1000001 и выше — `'A'`."
   ]
  },
  {
   "cell_type": "code",
   "execution_count": null,
   "id": "e1771346",
   "metadata": {
    "deletable": false,
    "id": "e1771346"
   },
   "outputs": [],
   "source": [
    "def categorize_income(income):\n",
    "    try:\n",
    "        if 0 <= income <= 30000:\n",
    "            return 'E'\n",
    "        elif 30001 <= income <= 50000:\n",
    "            return 'D'\n",
    "        elif 50001 <= income <= 200000:\n",
    "            return 'C'\n",
    "        elif 200001 <= income <= 1000000:\n",
    "            return 'B'\n",
    "        elif income >= 1000001:\n",
    "            return 'A'\n",
    "    except:\n",
    "        pass"
   ]
  },
  {
   "cell_type": "code",
   "execution_count": null,
   "id": "d5f3586d",
   "metadata": {
    "deletable": false,
    "id": "d5f3586d"
   },
   "outputs": [],
   "source": [
    "data['total_income_category'] = data['total_income'].apply(categorize_income)"
   ]
  },
  {
   "cell_type": "markdown",
   "id": "dde49b5c",
   "metadata": {
    "deletable": false,
    "id": "dde49b5c"
   },
   "source": [
    "Перечень уникальных целей взятия кредита из столбца `purpose`"
   ]
  },
  {
   "cell_type": "code",
   "execution_count": null,
   "id": "f67ce9b3",
   "metadata": {
    "deletable": false,
    "id": "f67ce9b3",
    "outputId": "673c12d9-7d7e-4ae0-9812-c622c89dd244"
   },
   "outputs": [
    {
     "data": {
      "text/plain": [
       "array(['покупка жилья', 'приобретение автомобиля',\n",
       "       'дополнительное образование', 'сыграть свадьбу',\n",
       "       'операции с жильем', 'образование', 'на проведение свадьбы',\n",
       "       'покупка жилья для семьи', 'покупка недвижимости',\n",
       "       'покупка коммерческой недвижимости', 'покупка жилой недвижимости',\n",
       "       'строительство собственной недвижимости', 'недвижимость',\n",
       "       'строительство недвижимости', 'на покупку подержанного автомобиля',\n",
       "       'на покупку своего автомобиля',\n",
       "       'операции с коммерческой недвижимостью',\n",
       "       'строительство жилой недвижимости', 'жилье',\n",
       "       'операции со своей недвижимостью', 'автомобили',\n",
       "       'заняться образованием', 'сделка с подержанным автомобилем',\n",
       "       'получение образования', 'автомобиль', 'свадьба',\n",
       "       'получение дополнительного образования', 'покупка своего жилья',\n",
       "       'операции с недвижимостью', 'получение высшего образования',\n",
       "       'свой автомобиль', 'сделка с автомобилем',\n",
       "       'профильное образование', 'высшее образование',\n",
       "       'покупка жилья для сдачи', 'на покупку автомобиля', 'ремонт жилью',\n",
       "       'заняться высшим образованием'], dtype=object)"
      ]
     },
     "execution_count": 19,
     "metadata": {},
     "output_type": "execute_result"
    }
   ],
   "source": [
    "data['purpose'].unique()"
   ]
  },
  {
   "cell_type": "markdown",
   "id": "85d0aef0",
   "metadata": {
    "deletable": false,
    "id": "85d0aef0"
   },
   "source": [
    " Функцию, которая на основании данных из столбца `purpose` сформирует новый столбец `purpose_category`, в который войдут следующие категории:\n",
    "\n",
    "- `'операции с автомобилем'`,\n",
    "- `'операции с недвижимостью'`,\n",
    "- `'проведение свадьбы'`,\n",
    "- `'получение образования'`."
   ]
  },
  {
   "cell_type": "code",
   "execution_count": null,
   "id": "e149fab4",
   "metadata": {
    "deletable": false,
    "id": "e149fab4"
   },
   "outputs": [],
   "source": [
    "def categorize_purpose(row):\n",
    "    try:\n",
    "        if 'автом' in row:\n",
    "            return 'операции с автомобилем'\n",
    "        elif 'жил' in row or 'недвиж' in row:\n",
    "            return 'операции с недвижимостью'\n",
    "        elif 'свад' in row:\n",
    "            return 'проведение свадьбы'\n",
    "        elif 'образов' in row:\n",
    "            return 'получение образования'\n",
    "    except:\n",
    "        return 'нет категории'"
   ]
  },
  {
   "cell_type": "code",
   "execution_count": null,
   "id": "bf36e69b",
   "metadata": {
    "deletable": false,
    "id": "bf36e69b"
   },
   "outputs": [],
   "source": [
    "data['purpose_category'] = data['purpose'].apply(categorize_purpose)"
   ]
  },
  {
   "cell_type": "markdown",
   "id": "09b242bf",
   "metadata": {
    "deletable": false,
    "editable": false,
    "id": "09b242bf"
   },
   "source": [
    "## Исследуйте данные и ответьте на вопросы"
   ]
  },
  {
   "cell_type": "markdown",
   "id": "c917f34b",
   "metadata": {},
   "source": [
    "1. children — количество детей в семье\n",
    "1. days_employed  — общий трудовой стаж в днях\n",
    "1. dob_years' — возраст клиента в годах\n",
    "1. education — уровень образования клиента\n",
    "1. education_id — идентификатор уровня образования\n",
    "1. family_status — семейное положение\n",
    "1. family_status_id — идентификатор семейного положения\n",
    "1. gender — пол клиента\n",
    "1. income_type — тип занятости\n",
    "1. debt — имел ли задолженность по возврату кредитов\n",
    "1. total_income — ежемесячный доход\n",
    "1. purpose — цель получения кредита\n",
    "1. total_income_category - категория ежемесячного дохода\n",
    "1. purpose_category - категория целей получения кредита\n"
   ]
  },
  {
   "cell_type": "markdown",
   "id": "c5d66278",
   "metadata": {
    "deletable": false,
    "editable": false,
    "id": "c5d66278"
   },
   "source": [
    "Есть ли зависимость между количеством детей и возвратом кредита в срок?"
   ]
  },
  {
   "cell_type": "code",
   "execution_count": null,
   "id": "b3c190db",
   "metadata": {},
   "outputs": [],
   "source": [
    "import pandas as pd #постоянно то убирала то добавляла библиотеку seaborn и в результате запуталась. Спасибо!"
   ]
  },
  {
   "cell_type": "code",
   "execution_count": null,
   "id": "4e2e593b",
   "metadata": {},
   "outputs": [
    {
     "name": "stdout",
     "output_type": "stream",
     "text": [
      "<class 'pandas.core.frame.DataFrame'>\n",
      "Int64Index: 21348 entries, 0 to 21524\n",
      "Data columns (total 14 columns):\n",
      " #   Column                 Non-Null Count  Dtype  \n",
      "---  ------                 --------------  -----  \n",
      " 0   children               21348 non-null  int64  \n",
      " 1   days_employed          21348 non-null  float64\n",
      " 2   dob_years              21348 non-null  int64  \n",
      " 3   education              21348 non-null  object \n",
      " 4   education_id           21348 non-null  int64  \n",
      " 5   family_status          21348 non-null  object \n",
      " 6   family_status_id       21348 non-null  int64  \n",
      " 7   gender                 21348 non-null  object \n",
      " 8   income_type            21348 non-null  object \n",
      " 9   debt                   21348 non-null  int64  \n",
      " 10  total_income           21348 non-null  int64  \n",
      " 11  purpose                21348 non-null  object \n",
      " 12  total_income_category  21348 non-null  object \n",
      " 13  purpose_category       21348 non-null  object \n",
      "dtypes: float64(1), int64(6), object(7)\n",
      "memory usage: 2.4+ MB\n"
     ]
    }
   ],
   "source": [
    "data.info()"
   ]
  },
  {
   "cell_type": "code",
   "execution_count": null,
   "id": "85e40dd0",
   "metadata": {},
   "outputs": [],
   "source": [
    "def categorize_children(amount):\n",
    "    try:\n",
    "        if amount == 0:\n",
    "            return 'нет детей'\n",
    "        elif amount == 1:\n",
    "            return '1 ребенок'\n",
    "        elif amount == 2:\n",
    "            return '2 ребенка'\n",
    "        elif amount == 3 or amount == 4 or amount == 5:\n",
    "            return 'многодетная семья'\n",
    "    except:\n",
    "        return 'нет категории'\n",
    "\n",
    "data['categorize_children'] = data['children'].apply(categorize_children)"
   ]
  },
  {
   "cell_type": "code",
   "execution_count": null,
   "id": "9a0e1882",
   "metadata": {},
   "outputs": [
    {
     "data": {
      "text/html": [
       "<div>\n",
       "<style scoped>\n",
       "    .dataframe tbody tr th:only-of-type {\n",
       "        vertical-align: middle;\n",
       "    }\n",
       "\n",
       "    .dataframe tbody tr th {\n",
       "        vertical-align: top;\n",
       "    }\n",
       "\n",
       "    .dataframe thead th {\n",
       "        text-align: right;\n",
       "    }\n",
       "</style>\n",
       "<table border=\"1\" class=\"dataframe\">\n",
       "  <thead>\n",
       "    <tr style=\"text-align: right;\">\n",
       "      <th></th>\n",
       "      <th>children</th>\n",
       "      <th>days_employed</th>\n",
       "      <th>dob_years</th>\n",
       "      <th>education</th>\n",
       "      <th>education_id</th>\n",
       "      <th>family_status</th>\n",
       "      <th>family_status_id</th>\n",
       "      <th>gender</th>\n",
       "      <th>income_type</th>\n",
       "      <th>debt</th>\n",
       "      <th>total_income</th>\n",
       "      <th>purpose</th>\n",
       "      <th>total_income_category</th>\n",
       "      <th>purpose_category</th>\n",
       "      <th>categorize_children</th>\n",
       "    </tr>\n",
       "  </thead>\n",
       "  <tbody>\n",
       "    <tr>\n",
       "      <th>0</th>\n",
       "      <td>1</td>\n",
       "      <td>8437.673028</td>\n",
       "      <td>42</td>\n",
       "      <td>высшее</td>\n",
       "      <td>0</td>\n",
       "      <td>женат / замужем</td>\n",
       "      <td>0</td>\n",
       "      <td>F</td>\n",
       "      <td>сотрудник</td>\n",
       "      <td>0</td>\n",
       "      <td>253875</td>\n",
       "      <td>покупка жилья</td>\n",
       "      <td>B</td>\n",
       "      <td>операции с недвижимостью</td>\n",
       "      <td>1 ребенок</td>\n",
       "    </tr>\n",
       "    <tr>\n",
       "      <th>1</th>\n",
       "      <td>1</td>\n",
       "      <td>4024.803754</td>\n",
       "      <td>36</td>\n",
       "      <td>среднее</td>\n",
       "      <td>1</td>\n",
       "      <td>женат / замужем</td>\n",
       "      <td>0</td>\n",
       "      <td>F</td>\n",
       "      <td>сотрудник</td>\n",
       "      <td>0</td>\n",
       "      <td>112080</td>\n",
       "      <td>приобретение автомобиля</td>\n",
       "      <td>C</td>\n",
       "      <td>операции с автомобилем</td>\n",
       "      <td>1 ребенок</td>\n",
       "    </tr>\n",
       "    <tr>\n",
       "      <th>2</th>\n",
       "      <td>0</td>\n",
       "      <td>5623.422610</td>\n",
       "      <td>33</td>\n",
       "      <td>среднее</td>\n",
       "      <td>1</td>\n",
       "      <td>женат / замужем</td>\n",
       "      <td>0</td>\n",
       "      <td>M</td>\n",
       "      <td>сотрудник</td>\n",
       "      <td>0</td>\n",
       "      <td>145885</td>\n",
       "      <td>покупка жилья</td>\n",
       "      <td>C</td>\n",
       "      <td>операции с недвижимостью</td>\n",
       "      <td>нет детей</td>\n",
       "    </tr>\n",
       "    <tr>\n",
       "      <th>3</th>\n",
       "      <td>3</td>\n",
       "      <td>4124.747207</td>\n",
       "      <td>32</td>\n",
       "      <td>среднее</td>\n",
       "      <td>1</td>\n",
       "      <td>женат / замужем</td>\n",
       "      <td>0</td>\n",
       "      <td>M</td>\n",
       "      <td>сотрудник</td>\n",
       "      <td>0</td>\n",
       "      <td>267628</td>\n",
       "      <td>дополнительное образование</td>\n",
       "      <td>B</td>\n",
       "      <td>получение образования</td>\n",
       "      <td>многодетная семья</td>\n",
       "    </tr>\n",
       "    <tr>\n",
       "      <th>4</th>\n",
       "      <td>0</td>\n",
       "      <td>340266.072047</td>\n",
       "      <td>53</td>\n",
       "      <td>среднее</td>\n",
       "      <td>1</td>\n",
       "      <td>гражданский брак</td>\n",
       "      <td>1</td>\n",
       "      <td>F</td>\n",
       "      <td>пенсионер</td>\n",
       "      <td>0</td>\n",
       "      <td>158616</td>\n",
       "      <td>сыграть свадьбу</td>\n",
       "      <td>C</td>\n",
       "      <td>проведение свадьбы</td>\n",
       "      <td>нет детей</td>\n",
       "    </tr>\n",
       "  </tbody>\n",
       "</table>\n",
       "</div>"
      ],
      "text/plain": [
       "   children  days_employed  dob_years education  education_id  \\\n",
       "0         1    8437.673028         42    высшее             0   \n",
       "1         1    4024.803754         36   среднее             1   \n",
       "2         0    5623.422610         33   среднее             1   \n",
       "3         3    4124.747207         32   среднее             1   \n",
       "4         0  340266.072047         53   среднее             1   \n",
       "\n",
       "      family_status  family_status_id gender income_type  debt  total_income  \\\n",
       "0   женат / замужем                 0      F   сотрудник     0        253875   \n",
       "1   женат / замужем                 0      F   сотрудник     0        112080   \n",
       "2   женат / замужем                 0      M   сотрудник     0        145885   \n",
       "3   женат / замужем                 0      M   сотрудник     0        267628   \n",
       "4  гражданский брак                 1      F   пенсионер     0        158616   \n",
       "\n",
       "                      purpose total_income_category          purpose_category  \\\n",
       "0               покупка жилья                     B  операции с недвижимостью   \n",
       "1     приобретение автомобиля                     C    операции с автомобилем   \n",
       "2               покупка жилья                     C  операции с недвижимостью   \n",
       "3  дополнительное образование                     B     получение образования   \n",
       "4             сыграть свадьбу                     C        проведение свадьбы   \n",
       "\n",
       "  categorize_children  \n",
       "0           1 ребенок  \n",
       "1           1 ребенок  \n",
       "2           нет детей  \n",
       "3   многодетная семья  \n",
       "4           нет детей  "
      ]
     },
     "execution_count": 25,
     "metadata": {},
     "output_type": "execute_result"
    }
   ],
   "source": [
    "data.head()"
   ]
  },
  {
   "cell_type": "code",
   "execution_count": null,
   "id": "471f2671",
   "metadata": {},
   "outputs": [
    {
     "data": {
      "text/html": [
       "<div>\n",
       "<style scoped>\n",
       "    .dataframe tbody tr th:only-of-type {\n",
       "        vertical-align: middle;\n",
       "    }\n",
       "\n",
       "    .dataframe tbody tr th {\n",
       "        vertical-align: top;\n",
       "    }\n",
       "\n",
       "    .dataframe thead tr th {\n",
       "        text-align: left;\n",
       "    }\n",
       "</style>\n",
       "<table border=\"1\" class=\"dataframe\">\n",
       "  <thead>\n",
       "    <tr>\n",
       "      <th></th>\n",
       "      <th>categorize_children</th>\n",
       "      <th colspan=\"2\" halign=\"left\">debt</th>\n",
       "      <th>sum_count</th>\n",
       "      <th>total_debt</th>\n",
       "    </tr>\n",
       "    <tr>\n",
       "      <th></th>\n",
       "      <th></th>\n",
       "      <th>sum</th>\n",
       "      <th>count</th>\n",
       "      <th></th>\n",
       "      <th></th>\n",
       "    </tr>\n",
       "  </thead>\n",
       "  <tbody>\n",
       "    <tr>\n",
       "      <th>0</th>\n",
       "      <td>2 ребенка</td>\n",
       "      <td>194</td>\n",
       "      <td>2052</td>\n",
       "      <td>9.454191</td>\n",
       "      <td>0.908750</td>\n",
       "    </tr>\n",
       "    <tr>\n",
       "      <th>1</th>\n",
       "      <td>1 ребенок</td>\n",
       "      <td>444</td>\n",
       "      <td>4809</td>\n",
       "      <td>9.232689</td>\n",
       "      <td>2.079820</td>\n",
       "    </tr>\n",
       "    <tr>\n",
       "      <th>2</th>\n",
       "      <td>многодетная семья</td>\n",
       "      <td>31</td>\n",
       "      <td>380</td>\n",
       "      <td>8.157895</td>\n",
       "      <td>0.145213</td>\n",
       "    </tr>\n",
       "    <tr>\n",
       "      <th>3</th>\n",
       "      <td>нет детей</td>\n",
       "      <td>1063</td>\n",
       "      <td>14107</td>\n",
       "      <td>7.535266</td>\n",
       "      <td>4.979389</td>\n",
       "    </tr>\n",
       "  </tbody>\n",
       "</table>\n",
       "</div>"
      ],
      "text/plain": [
       "  categorize_children  debt        sum_count total_debt\n",
       "                        sum  count                     \n",
       "0           2 ребенка   194   2052  9.454191   0.908750\n",
       "1           1 ребенок   444   4809  9.232689   2.079820\n",
       "2   многодетная семья    31    380  8.157895   0.145213\n",
       "3           нет детей  1063  14107  7.535266   4.979389"
      ]
     },
     "execution_count": 26,
     "metadata": {},
     "output_type": "execute_result"
    }
   ],
   "source": [
    "y= data.groupby('categorize_children').agg({'debt':['sum', 'count']})\n",
    "y['sum_count'] = y['debt']['sum'] / y['debt']['count'] * 100\n",
    "y['total_debt'] = y['debt']['sum'] / len(data) * 100\n",
    "y.sort_values(by='sum_count', ascending=False).reset_index()"
   ]
  },
  {
   "cell_type": "code",
   "execution_count": null,
   "id": "4d8859ad",
   "metadata": {},
   "outputs": [
    {
     "data": {
      "text/html": [
       "<div>\n",
       "<style scoped>\n",
       "    .dataframe tbody tr th:only-of-type {\n",
       "        vertical-align: middle;\n",
       "    }\n",
       "\n",
       "    .dataframe tbody tr th {\n",
       "        vertical-align: top;\n",
       "    }\n",
       "\n",
       "    .dataframe thead tr th {\n",
       "        text-align: left;\n",
       "    }\n",
       "</style>\n",
       "<table border=\"1\" class=\"dataframe\">\n",
       "  <thead>\n",
       "    <tr>\n",
       "      <th></th>\n",
       "      <th>children</th>\n",
       "      <th colspan=\"2\" halign=\"left\">debt</th>\n",
       "      <th>sum_count</th>\n",
       "      <th>total_debt</th>\n",
       "    </tr>\n",
       "    <tr>\n",
       "      <th></th>\n",
       "      <th></th>\n",
       "      <th>sum</th>\n",
       "      <th>count</th>\n",
       "      <th></th>\n",
       "      <th></th>\n",
       "    </tr>\n",
       "  </thead>\n",
       "  <tbody>\n",
       "    <tr>\n",
       "      <th>0</th>\n",
       "      <td>4</td>\n",
       "      <td>4</td>\n",
       "      <td>41</td>\n",
       "      <td>9.756098</td>\n",
       "      <td>0.018737</td>\n",
       "    </tr>\n",
       "    <tr>\n",
       "      <th>1</th>\n",
       "      <td>2</td>\n",
       "      <td>194</td>\n",
       "      <td>2052</td>\n",
       "      <td>9.454191</td>\n",
       "      <td>0.908750</td>\n",
       "    </tr>\n",
       "    <tr>\n",
       "      <th>2</th>\n",
       "      <td>1</td>\n",
       "      <td>444</td>\n",
       "      <td>4809</td>\n",
       "      <td>9.232689</td>\n",
       "      <td>2.079820</td>\n",
       "    </tr>\n",
       "    <tr>\n",
       "      <th>3</th>\n",
       "      <td>3</td>\n",
       "      <td>27</td>\n",
       "      <td>330</td>\n",
       "      <td>8.181818</td>\n",
       "      <td>0.126476</td>\n",
       "    </tr>\n",
       "    <tr>\n",
       "      <th>4</th>\n",
       "      <td>0</td>\n",
       "      <td>1063</td>\n",
       "      <td>14107</td>\n",
       "      <td>7.535266</td>\n",
       "      <td>4.979389</td>\n",
       "    </tr>\n",
       "    <tr>\n",
       "      <th>5</th>\n",
       "      <td>5</td>\n",
       "      <td>0</td>\n",
       "      <td>9</td>\n",
       "      <td>0.000000</td>\n",
       "      <td>0.000000</td>\n",
       "    </tr>\n",
       "  </tbody>\n",
       "</table>\n",
       "</div>"
      ],
      "text/plain": [
       "  children  debt        sum_count total_debt\n",
       "             sum  count                     \n",
       "0        4     4     41  9.756098   0.018737\n",
       "1        2   194   2052  9.454191   0.908750\n",
       "2        1   444   4809  9.232689   2.079820\n",
       "3        3    27    330  8.181818   0.126476\n",
       "4        0  1063  14107  7.535266   4.979389\n",
       "5        5     0      9  0.000000   0.000000"
      ]
     },
     "execution_count": 27,
     "metadata": {},
     "output_type": "execute_result"
    }
   ],
   "source": [
    "#отношение должников по кредитам ко всеv\n",
    "x = data.groupby('children').agg({'debt':['sum', 'count']})\n",
    "x['sum_count'] = x['debt']['sum'] / x['debt']['count'] * 100\n",
    "x['total_debt'] = x['debt']['sum'] / len(data) * 100\n",
    "x.sort_values(by='sum_count', ascending=False).reset_index()"
   ]
  },
  {
   "cell_type": "markdown",
   "id": "3a6b99ec",
   "metadata": {
    "deletable": false,
    "id": "3a6b99ec"
   },
   "source": [
    "**Вывод:** \n",
    "* Наличие задолжностей по крединам зависит от коллчиесва детей в семье.\n",
    "* Доля задолжностей по кредитам в семьях сдетьми больше чем в семьях где детей нет.\n",
    "* Самые большие доли занимают семьи с 1-м или 2-мя детьми в семье.\n",
    "\n",
    "Кредитополучатели без детей являются более ответственными, чем клиенты, у которых есть дети. Видимо, наличие ребенка накладывает на клиента дополнительные финансовое бремя (обязательства) и клиенты либо менее ответственно относятся к своим кредитным обязательствам, либо не имеют возможности в срок оплачивать обязательства.\n",
    "\n",
    "**Самые большие доли занимают семьи с 1-м или 2-мя детьми в семье.** - возможно, что для них рождение ребенка — это некий шок, влияющий на исполнение финансовых обязательств. В то время как для семей с большим количеством детей - дети стали обыденностью."
   ]
  },
  {
   "cell_type": "markdown",
   "id": "97be82ca",
   "metadata": {
    "deletable": false,
    "editable": false,
    "id": "97be82ca"
   },
   "source": [
    "Есть ли зависимость между семейным положением и возвратом кредита в срок?"
   ]
  },
  {
   "cell_type": "code",
   "execution_count": null,
   "id": "dc3f7ee8",
   "metadata": {
    "id": "dc3f7ee8"
   },
   "outputs": [
    {
     "data": {
      "text/html": [
       "<div>\n",
       "<style scoped>\n",
       "    .dataframe tbody tr th:only-of-type {\n",
       "        vertical-align: middle;\n",
       "    }\n",
       "\n",
       "    .dataframe tbody tr th {\n",
       "        vertical-align: top;\n",
       "    }\n",
       "\n",
       "    .dataframe thead tr th {\n",
       "        text-align: left;\n",
       "    }\n",
       "\n",
       "    .dataframe thead tr:last-of-type th {\n",
       "        text-align: right;\n",
       "    }\n",
       "</style>\n",
       "<table border=\"1\" class=\"dataframe\">\n",
       "  <thead>\n",
       "    <tr>\n",
       "      <th></th>\n",
       "      <th colspan=\"2\" halign=\"left\">debt</th>\n",
       "      <th>sum_count</th>\n",
       "      <th>total_debt</th>\n",
       "    </tr>\n",
       "    <tr>\n",
       "      <th></th>\n",
       "      <th>sum</th>\n",
       "      <th>count</th>\n",
       "      <th></th>\n",
       "      <th></th>\n",
       "    </tr>\n",
       "    <tr>\n",
       "      <th>family_status</th>\n",
       "      <th></th>\n",
       "      <th></th>\n",
       "      <th></th>\n",
       "      <th></th>\n",
       "    </tr>\n",
       "  </thead>\n",
       "  <tbody>\n",
       "    <tr>\n",
       "      <th>Не женат / не замужем</th>\n",
       "      <td>273</td>\n",
       "      <td>2796</td>\n",
       "      <td>9.763948</td>\n",
       "      <td>1.278808</td>\n",
       "    </tr>\n",
       "    <tr>\n",
       "      <th>гражданский брак</th>\n",
       "      <td>385</td>\n",
       "      <td>4146</td>\n",
       "      <td>9.286059</td>\n",
       "      <td>1.803448</td>\n",
       "    </tr>\n",
       "    <tr>\n",
       "      <th>женат / замужем</th>\n",
       "      <td>927</td>\n",
       "      <td>12266</td>\n",
       "      <td>7.557476</td>\n",
       "      <td>4.342327</td>\n",
       "    </tr>\n",
       "    <tr>\n",
       "      <th>в разводе</th>\n",
       "      <td>84</td>\n",
       "      <td>1189</td>\n",
       "      <td>7.064760</td>\n",
       "      <td>0.393479</td>\n",
       "    </tr>\n",
       "    <tr>\n",
       "      <th>вдовец / вдова</th>\n",
       "      <td>63</td>\n",
       "      <td>951</td>\n",
       "      <td>6.624606</td>\n",
       "      <td>0.295110</td>\n",
       "    </tr>\n",
       "  </tbody>\n",
       "</table>\n",
       "</div>"
      ],
      "text/plain": [
       "                      debt        sum_count total_debt\n",
       "                       sum  count                     \n",
       "family_status                                         \n",
       "Не женат / не замужем  273   2796  9.763948   1.278808\n",
       "гражданский брак       385   4146  9.286059   1.803448\n",
       "женат / замужем        927  12266  7.557476   4.342327\n",
       "в разводе               84   1189  7.064760   0.393479\n",
       "вдовец / вдова          63    951  6.624606   0.295110"
      ]
     },
     "execution_count": 28,
     "metadata": {},
     "output_type": "execute_result"
    }
   ],
   "source": [
    "# Ваш код будет здесь. Вы можете создавать новые ячейки.\n",
    "family_status_debt = data.groupby('family_status').agg({'debt':['sum', 'count']})\n",
    "family_status_debt['sum_count'] = family_status_debt['debt']['sum'] / family_status_debt['debt']['count'] * 100\n",
    "family_status_debt['total_debt'] = family_status_debt['debt']['sum'] / len(data) * 100\n",
    "family_status_debt.sort_values(by='sum_count', ascending=False)"
   ]
  },
  {
   "cell_type": "markdown",
   "id": "1cef7837",
   "metadata": {
    "deletable": false,
    "id": "1cef7837"
   },
   "source": [
    "**Вывод:** \n",
    "* У семей со статусом Не женат / не замужем самая большая доля по невозвратам кредитов 9.7%, к этой катеорги можно отнести гражданский брак, такие показатели могут быть связаны со статусом заработка семьи или целями взятия кредита.\n",
    "* Средний показатель у семей со статусом женат / замужем 7.5%\n",
    "* Самый низкий у семей вдовец / вдова 6.6%\n"
   ]
  },
  {
   "cell_type": "markdown",
   "id": "1e8b2fca",
   "metadata": {
    "deletable": false,
    "editable": false,
    "id": "1e8b2fca"
   },
   "source": [
    "**Задание 21. Есть ли зависимость между уровнем дохода и возвратом кредита в срок?**"
   ]
  },
  {
   "cell_type": "code",
   "execution_count": null,
   "id": "cd7e3720",
   "metadata": {
    "id": "cd7e3720"
   },
   "outputs": [],
   "source": [
    "add_status_data = data.pivot_table(index=['total_income_category'], values='debt', aggfunc={'count', 'sum'})"
   ]
  },
  {
   "cell_type": "code",
   "execution_count": null,
   "id": "030f8eca",
   "metadata": {},
   "outputs": [
    {
     "data": {
      "text/html": [
       "<div>\n",
       "<style scoped>\n",
       "    .dataframe tbody tr th:only-of-type {\n",
       "        vertical-align: middle;\n",
       "    }\n",
       "\n",
       "    .dataframe tbody tr th {\n",
       "        vertical-align: top;\n",
       "    }\n",
       "\n",
       "    .dataframe thead th {\n",
       "        text-align: right;\n",
       "    }\n",
       "</style>\n",
       "<table border=\"1\" class=\"dataframe\">\n",
       "  <thead>\n",
       "    <tr style=\"text-align: right;\">\n",
       "      <th></th>\n",
       "      <th>total_income_category</th>\n",
       "      <th>count</th>\n",
       "      <th>sum</th>\n",
       "      <th>sum_count</th>\n",
       "      <th>total_debt</th>\n",
       "    </tr>\n",
       "  </thead>\n",
       "  <tbody>\n",
       "    <tr>\n",
       "      <th>0</th>\n",
       "      <td>E</td>\n",
       "      <td>22</td>\n",
       "      <td>2</td>\n",
       "      <td>9.090909</td>\n",
       "      <td>0.009369</td>\n",
       "    </tr>\n",
       "    <tr>\n",
       "      <th>1</th>\n",
       "      <td>C</td>\n",
       "      <td>15938</td>\n",
       "      <td>1353</td>\n",
       "      <td>8.489145</td>\n",
       "      <td>6.337830</td>\n",
       "    </tr>\n",
       "    <tr>\n",
       "      <th>2</th>\n",
       "      <td>A</td>\n",
       "      <td>25</td>\n",
       "      <td>2</td>\n",
       "      <td>8.000000</td>\n",
       "      <td>0.009369</td>\n",
       "    </tr>\n",
       "    <tr>\n",
       "      <th>3</th>\n",
       "      <td>B</td>\n",
       "      <td>5014</td>\n",
       "      <td>354</td>\n",
       "      <td>7.060231</td>\n",
       "      <td>1.658235</td>\n",
       "    </tr>\n",
       "    <tr>\n",
       "      <th>4</th>\n",
       "      <td>D</td>\n",
       "      <td>349</td>\n",
       "      <td>21</td>\n",
       "      <td>6.017192</td>\n",
       "      <td>0.098370</td>\n",
       "    </tr>\n",
       "  </tbody>\n",
       "</table>\n",
       "</div>"
      ],
      "text/plain": [
       "  total_income_category  count   sum  sum_count  total_debt\n",
       "0                     E     22     2   9.090909    0.009369\n",
       "1                     C  15938  1353   8.489145    6.337830\n",
       "2                     A     25     2   8.000000    0.009369\n",
       "3                     B   5014   354   7.060231    1.658235\n",
       "4                     D    349    21   6.017192    0.098370"
      ]
     },
     "execution_count": 30,
     "metadata": {},
     "output_type": "execute_result"
    }
   ],
   "source": [
    "add_status_data['sum_count'] = add_status_data['sum'] / add_status_data['count'] * 100 \n",
    "add_status_data['total_debt'] = add_status_data['sum'] / len(data) * 100\n",
    "add_status_data.sort_values(by='sum_count', ascending=False).reset_index()"
   ]
  },
  {
   "cell_type": "markdown",
   "id": "e8593def",
   "metadata": {
    "deletable": false,
    "id": "e8593def"
   },
   "source": [
    "**Вывод:** \n",
    "Самая большая доля процентов по невозрату у семей с уровнем дохода Е 9.0% и С 8.4%, но их доля Е в таблице очень.\n",
    "Среднее значение у семей с высоким доходом категории А 8.0%, но их коллчество относительно остальных категорий так же мало. \n",
    "Самая низкая у семей с категорие D 6.0% и B 7.0%.\n",
    "Исходя из здравого смысла логично предположить, что чаще всего должниками становятся люди с небольшим доходом, которым финансовые проблемы не позволяют вовремя осуществлять платежи. Но глядя на наши результаты лично мой вывод таков: выборка по заемщикам, как с наименьшим доходом, так и с наибольшим крайне недостаточна для формирования однозначных выводов. Можно думать, что E-категория самая низкооплачиваемая не может корректно распоряжаться деньгами и «влезает» в кредиты, но тогда неясно почему у А-категории также достаточно высокий процент задолженности. В общем вывод по группам А и Е неочевиден, мало данных.\n",
    "\n",
    "Если же взять для анализа только группы В, С и D, то по полученным данным не наблюдаем зависимости \"те кто получает больше ЗП, лучше возвращает кредит». В целом это логично, так как материальный достаток - не единственная переменная которая влияет на качество кредитной истории."
   ]
  },
  {
   "cell_type": "markdown",
   "id": "99ecbd1f",
   "metadata": {
    "deletable": false,
    "editable": false,
    "id": "99ecbd1f"
   },
   "source": [
    "**Задание 22. Как разные цели кредита влияют на его возврат в срок?**"
   ]
  },
  {
   "cell_type": "code",
   "execution_count": null,
   "id": "2b687290",
   "metadata": {
    "id": "2b687290"
   },
   "outputs": [],
   "source": [
    "\n",
    "add_purpose_data = data.pivot_table(index=['purpose_category'], values='debt', aggfunc={'count', 'sum'})"
   ]
  },
  {
   "cell_type": "code",
   "execution_count": null,
   "id": "a8f57c0c",
   "metadata": {},
   "outputs": [
    {
     "data": {
      "text/html": [
       "<div>\n",
       "<style scoped>\n",
       "    .dataframe tbody tr th:only-of-type {\n",
       "        vertical-align: middle;\n",
       "    }\n",
       "\n",
       "    .dataframe tbody tr th {\n",
       "        vertical-align: top;\n",
       "    }\n",
       "\n",
       "    .dataframe thead th {\n",
       "        text-align: right;\n",
       "    }\n",
       "</style>\n",
       "<table border=\"1\" class=\"dataframe\">\n",
       "  <thead>\n",
       "    <tr style=\"text-align: right;\">\n",
       "      <th></th>\n",
       "      <th>count</th>\n",
       "      <th>sum</th>\n",
       "      <th>status_fam</th>\n",
       "      <th>total_debt</th>\n",
       "    </tr>\n",
       "    <tr>\n",
       "      <th>purpose_category</th>\n",
       "      <th></th>\n",
       "      <th></th>\n",
       "      <th></th>\n",
       "      <th></th>\n",
       "    </tr>\n",
       "  </thead>\n",
       "  <tbody>\n",
       "    <tr>\n",
       "      <th>операции с автомобилем</th>\n",
       "      <td>4281</td>\n",
       "      <td>400</td>\n",
       "      <td>9.343611</td>\n",
       "      <td>1.873712</td>\n",
       "    </tr>\n",
       "    <tr>\n",
       "      <th>получение образования</th>\n",
       "      <td>3989</td>\n",
       "      <td>369</td>\n",
       "      <td>9.250439</td>\n",
       "      <td>1.728499</td>\n",
       "    </tr>\n",
       "    <tr>\n",
       "      <th>проведение свадьбы</th>\n",
       "      <td>2324</td>\n",
       "      <td>183</td>\n",
       "      <td>7.874355</td>\n",
       "      <td>0.857223</td>\n",
       "    </tr>\n",
       "    <tr>\n",
       "      <th>операции с недвижимостью</th>\n",
       "      <td>10754</td>\n",
       "      <td>780</td>\n",
       "      <td>7.253115</td>\n",
       "      <td>3.653738</td>\n",
       "    </tr>\n",
       "  </tbody>\n",
       "</table>\n",
       "</div>"
      ],
      "text/plain": [
       "                          count  sum  status_fam  total_debt\n",
       "purpose_category                                            \n",
       "операции с автомобилем     4281  400    9.343611    1.873712\n",
       "получение образования      3989  369    9.250439    1.728499\n",
       "проведение свадьбы         2324  183    7.874355    0.857223\n",
       "операции с недвижимостью  10754  780    7.253115    3.653738"
      ]
     },
     "execution_count": 32,
     "metadata": {},
     "output_type": "execute_result"
    }
   ],
   "source": [
    "add_purpose_data['status_fam'] = add_purpose_data['sum'] / add_purpose_data['count'] * 100 \n",
    "add_purpose_data['total_debt'] = add_purpose_data['sum'] / len(data) * 100\n",
    "add_purpose_data.sort_values(by='status_fam', ascending=False)"
   ]
  },
  {
   "cell_type": "markdown",
   "id": "b4bb2ce6",
   "metadata": {
    "deletable": false,
    "id": "b4bb2ce6"
   },
   "source": [
    "**Вывод:** Больше всего операций проведено с недвижимостью и у них самая низкая доля по возвратам, такая же ситуация и с проведением свадьбы. Больше всего задожностей имеется у операций с автомобилями и получением образования.\t"
   ]
  },
  {
   "cell_type": "markdown",
   "id": "6db5255a",
   "metadata": {
    "deletable": false,
    "editable": false,
    "id": "6db5255a"
   },
   "source": [
    "## Общий вывод."
   ]
  },
  {
   "cell_type": "markdown",
   "id": "68c481bb",
   "metadata": {},
   "source": [
    "**Общий вывод:**\n",
    "\n",
    "Было проведено исследование, для изучения влияния различных факторов на погашение кредита в срок. Входные данные - статистика о платеже способности клиентов. Результаты исследования бдудут учтены при построении модели кредитного скоринга - система оценки заемщика, с помощью которой банки предсказывают, насколько аккуратно человек будет выплачивать кредит.\n",
    "\n",
    "Перед проведением исследования было поставлено несколько гипотез:\n",
    "\n",
    "* Гипотеза 1: коллчиесво детей влияет на факт погашения кредита в скрок;\n",
    "* Гипотеза 2: семейное положение влияет на факт погашения кредита в скрок;\n",
    "* Гипотеза 3: семейный уровень дохода влияет на факт погашения кредита в скрок;\n",
    "* Гипотеза 4: цель взятия кредита влияет на факт погашения кредита в скрок.\n",
    "\n",
    "В результате исследования удалось выявить зависимость.\n",
    "\n",
    "**Гипотеза 1 частично подтверждена:** *для более точных выводов необходимо больше данныхъ по семьям с 3, 4 и 5 детьми.\n",
    "\n",
    "* 7.5% - доля просроченных кредитов у заевмщиков с без детей;\n",
    "* 9.5% - доля просроченных кредитов у заевмщиков с 2 детьми;\n",
    "* 9.2% - доля просроченных кредитов у заевмщиков с 1 детьми.\n",
    "\n",
    "Рекомендация: провести доополнительное исследование на большей выборке.\n",
    "\n",
    "**Гипотеза 2 подтверждена:** \n",
    "* У клиентов со статусом Не женат / не замужем (9.7%), к ним можно отнести гражданский брак (9.3%), у этих  групп самая большая доля задолжностей по крединам;\n",
    "* Категорий которые находяться в разводе(7.1%), в статусе женат/замужем (7.5%) или вдовец/вдова (6.6%), вероятность стать долджниками меньше всего.\n",
    "\n",
    "Рекомендация: разница между 2 пунктами составляет меньше 3%%, я бы не рекомендовала наделять эту зависимость высоким весом при принятии решения о кредито способности.\n",
    " \n",
    "**Гипотеза 3 частично подтверждена:** *для более точных выводов необходимо больше данныхъ по семьям по клиентам с уровнем дохода Е (до 30000), D (от 30001 до 50000) и А (от 1000001)\n",
    "\n",
    "* 8.5% - доля заемщиков по кредитам с уровнем дохода от 50001 до 200000;\n",
    "* 7.1% - доля заемщиков по кредитам с уровнем дохода от 200001 до 1000000.\n",
    "\n",
    "Рекомендация: провести доополнительное исследование на большей выборке.\n",
    "\n",
    "**Гипотеза 4 подтверждена:**\n",
    "\n",
    "* 9.3% - доля заемщиков по кредитам, целью которых были операции с автомобилем;\n",
    "* 9.3% - доля заемщиков по кредитам, целью которых были операции с получением образования;\n",
    "* 7.8% - доля заемщиков по кредитам, целью которых были операции с проведением свадьбы;\n",
    "* 7.2% - доля заемщиков по кредитам, целью которых были операции с недвижимостью.\n",
    "\n",
    "Рекомендация: Разница между 1 и 4 пунктами всего 2%% ,я бы не рекомендовала наделять эту зависимость высоким весом при принятии решения о кредито способности.\n",
    "\n",
    "**Общие рекомендации:**\n",
    "\n",
    "1. Специалистам, которые занимаются построением модели кредитного скорингаБ можно использовать зависимость из второй и четвертой гипотез (семейное положение и цели кредита)\n",
    "1. Необходимо собрать более полную выборку по первой и третьей гепотизам для повторной проверки."
   ]
  },
  {
   "cell_type": "code",
   "execution_count": null,
   "id": "ed41c7f8",
   "metadata": {},
   "outputs": [],
   "source": [
    "#all_table = data.pivot_table(index = ['family_status', 'purpose_category'], columns='total_income_category', values='debt', aggfunc={'count', 'sum'})\n",
    "#all_table"
   ]
  }
 ],
 "metadata": {
  "ExecuteTimeLog": [
   {
    "duration": 56,
    "start_time": "2022-06-18T12:59:05.599Z"
   },
   {
    "duration": 465,
    "start_time": "2022-06-18T12:59:16.856Z"
   },
   {
    "duration": 29,
    "start_time": "2022-06-18T12:59:17.323Z"
   },
   {
    "duration": 19,
    "start_time": "2022-06-18T12:59:17.354Z"
   },
   {
    "duration": 11,
    "start_time": "2022-06-18T12:59:17.375Z"
   },
   {
    "duration": 60,
    "start_time": "2022-06-18T12:59:17.387Z"
   },
   {
    "duration": 4,
    "start_time": "2022-06-18T12:59:17.449Z"
   },
   {
    "duration": 15,
    "start_time": "2022-06-18T12:59:17.455Z"
   },
   {
    "duration": 5,
    "start_time": "2022-06-18T12:59:17.472Z"
   },
   {
    "duration": 8,
    "start_time": "2022-06-18T12:59:17.479Z"
   },
   {
    "duration": 5,
    "start_time": "2022-06-18T12:59:17.492Z"
   },
   {
    "duration": 69,
    "start_time": "2022-06-18T12:59:17.498Z"
   },
   {
    "duration": 10,
    "start_time": "2022-06-18T12:59:17.569Z"
   },
   {
    "duration": 5,
    "start_time": "2022-06-18T12:59:17.581Z"
   },
   {
    "duration": 45,
    "start_time": "2022-06-18T12:59:17.588Z"
   },
   {
    "duration": 24,
    "start_time": "2022-06-18T12:59:17.638Z"
   },
   {
    "duration": 12,
    "start_time": "2022-06-18T12:59:17.663Z"
   },
   {
    "duration": 23,
    "start_time": "2022-06-18T12:59:17.676Z"
   },
   {
    "duration": 20,
    "start_time": "2022-06-18T12:59:17.701Z"
   },
   {
    "duration": 16,
    "start_time": "2022-06-18T12:59:17.723Z"
   },
   {
    "duration": 15,
    "start_time": "2022-06-18T12:59:17.741Z"
   },
   {
    "duration": 36,
    "start_time": "2022-06-18T12:59:17.757Z"
   },
   {
    "duration": 17,
    "start_time": "2022-06-18T12:59:17.795Z"
   },
   {
    "duration": 7,
    "start_time": "2022-06-18T12:59:17.814Z"
   },
   {
    "duration": 18,
    "start_time": "2022-06-18T12:59:17.822Z"
   },
   {
    "duration": 14,
    "start_time": "2022-06-18T12:59:17.842Z"
   },
   {
    "duration": 6,
    "start_time": "2022-06-18T13:07:30.868Z"
   },
   {
    "duration": 6,
    "start_time": "2022-06-18T13:10:07.617Z"
   },
   {
    "duration": 12,
    "start_time": "2022-06-18T13:10:15.895Z"
   },
   {
    "duration": 71,
    "start_time": "2022-06-18T13:11:38.288Z"
   },
   {
    "duration": 9,
    "start_time": "2022-06-18T13:11:54.339Z"
   },
   {
    "duration": 955,
    "start_time": "2022-06-18T13:12:02.346Z"
   },
   {
    "duration": 53,
    "start_time": "2022-06-18T13:12:13.612Z"
   },
   {
    "duration": 2,
    "start_time": "2022-06-18T13:12:17.076Z"
   },
   {
    "duration": 280,
    "start_time": "2022-06-18T13:12:18.627Z"
   },
   {
    "duration": 526,
    "start_time": "2022-06-18T13:13:18.214Z"
   },
   {
    "duration": 416,
    "start_time": "2022-06-18T13:13:33.047Z"
   },
   {
    "duration": 396,
    "start_time": "2022-06-18T13:13:41.450Z"
   },
   {
    "duration": 568,
    "start_time": "2022-06-18T13:13:48.481Z"
   },
   {
    "duration": 542,
    "start_time": "2022-06-18T13:14:01.611Z"
   },
   {
    "duration": 22,
    "start_time": "2022-06-18T13:14:02.154Z"
   },
   {
    "duration": 16,
    "start_time": "2022-06-18T13:14:02.178Z"
   },
   {
    "duration": 9,
    "start_time": "2022-06-18T13:14:02.196Z"
   },
   {
    "duration": 61,
    "start_time": "2022-06-18T13:14:02.207Z"
   },
   {
    "duration": 33,
    "start_time": "2022-06-18T13:14:02.270Z"
   },
   {
    "duration": 21,
    "start_time": "2022-06-18T13:14:02.305Z"
   },
   {
    "duration": 24,
    "start_time": "2022-06-18T13:14:02.328Z"
   },
   {
    "duration": 23,
    "start_time": "2022-06-18T13:14:02.354Z"
   },
   {
    "duration": 11,
    "start_time": "2022-06-18T13:14:02.381Z"
   },
   {
    "duration": 76,
    "start_time": "2022-06-18T13:14:02.394Z"
   },
   {
    "duration": 10,
    "start_time": "2022-06-18T13:14:02.472Z"
   },
   {
    "duration": 26,
    "start_time": "2022-06-18T13:14:02.484Z"
   },
   {
    "duration": 49,
    "start_time": "2022-06-18T13:14:02.511Z"
   },
   {
    "duration": 16,
    "start_time": "2022-06-18T13:14:02.561Z"
   },
   {
    "duration": 17,
    "start_time": "2022-06-18T13:14:02.579Z"
   },
   {
    "duration": 5,
    "start_time": "2022-06-18T13:14:02.598Z"
   },
   {
    "duration": 34,
    "start_time": "2022-06-18T13:14:02.604Z"
   },
   {
    "duration": 21,
    "start_time": "2022-06-18T13:14:02.640Z"
   },
   {
    "duration": 9,
    "start_time": "2022-06-18T13:14:02.663Z"
   },
   {
    "duration": 21,
    "start_time": "2022-06-18T13:14:02.673Z"
   },
   {
    "duration": 738,
    "start_time": "2022-06-18T13:14:02.696Z"
   },
   {
    "duration": 404,
    "start_time": "2022-06-18T13:14:03.437Z"
   },
   {
    "duration": 3,
    "start_time": "2022-06-18T13:14:03.844Z"
   },
   {
    "duration": 13,
    "start_time": "2022-06-18T13:14:03.849Z"
   },
   {
    "duration": 27,
    "start_time": "2022-06-18T13:14:03.864Z"
   },
   {
    "duration": 571,
    "start_time": "2022-06-18T13:15:24.038Z"
   },
   {
    "duration": 368,
    "start_time": "2022-06-18T13:15:43.475Z"
   },
   {
    "duration": 7,
    "start_time": "2022-06-18T13:17:14.016Z"
   },
   {
    "duration": 5,
    "start_time": "2022-06-18T13:17:48.873Z"
   },
   {
    "duration": 7,
    "start_time": "2022-06-18T13:18:00.607Z"
   },
   {
    "duration": 8,
    "start_time": "2022-06-18T13:23:14.693Z"
   },
   {
    "duration": 10,
    "start_time": "2022-06-18T13:23:27.722Z"
   },
   {
    "duration": 6,
    "start_time": "2022-06-18T13:25:53.366Z"
   },
   {
    "duration": 17,
    "start_time": "2022-06-18T13:28:14.391Z"
   },
   {
    "duration": 9,
    "start_time": "2022-06-18T13:30:01.370Z"
   },
   {
    "duration": 91,
    "start_time": "2022-06-18T13:32:39.760Z"
   },
   {
    "duration": 9,
    "start_time": "2022-06-18T13:34:12.601Z"
   },
   {
    "duration": 7,
    "start_time": "2022-06-18T13:35:11.234Z"
   },
   {
    "duration": 7,
    "start_time": "2022-06-18T13:37:44.917Z"
   },
   {
    "duration": 10,
    "start_time": "2022-06-18T13:39:51.938Z"
   },
   {
    "duration": 7,
    "start_time": "2022-06-18T13:40:10.534Z"
   },
   {
    "duration": 4,
    "start_time": "2022-06-18T13:40:13.833Z"
   },
   {
    "duration": 27,
    "start_time": "2022-06-18T13:40:19.441Z"
   },
   {
    "duration": 7,
    "start_time": "2022-06-18T13:40:50.066Z"
   },
   {
    "duration": 12,
    "start_time": "2022-06-18T13:40:53.234Z"
   },
   {
    "duration": 10,
    "start_time": "2022-06-18T13:41:32.193Z"
   },
   {
    "duration": 14,
    "start_time": "2022-06-18T13:41:44.160Z"
   },
   {
    "duration": 342,
    "start_time": "2022-06-18T13:42:09.416Z"
   },
   {
    "duration": 6,
    "start_time": "2022-06-18T13:43:45.864Z"
   },
   {
    "duration": 37,
    "start_time": "2022-06-18T13:44:23.541Z"
   },
   {
    "duration": 9,
    "start_time": "2022-06-18T13:44:29.677Z"
   },
   {
    "duration": 16,
    "start_time": "2022-06-18T13:44:45.357Z"
   },
   {
    "duration": 12,
    "start_time": "2022-06-18T13:45:23.341Z"
   },
   {
    "duration": 7,
    "start_time": "2022-06-18T13:47:35.258Z"
   },
   {
    "duration": 12,
    "start_time": "2022-06-18T13:47:41.336Z"
   },
   {
    "duration": 13,
    "start_time": "2022-06-18T13:47:46.915Z"
   },
   {
    "duration": 350,
    "start_time": "2022-06-18T13:48:19.149Z"
   },
   {
    "duration": 10,
    "start_time": "2022-06-18T13:48:59.083Z"
   },
   {
    "duration": 8,
    "start_time": "2022-06-18T13:49:04.294Z"
   },
   {
    "duration": 14,
    "start_time": "2022-06-18T13:49:09.123Z"
   },
   {
    "duration": 334,
    "start_time": "2022-06-18T13:49:29.382Z"
   },
   {
    "duration": 326,
    "start_time": "2022-06-18T13:49:36.427Z"
   },
   {
    "duration": 7,
    "start_time": "2022-06-18T13:50:40.078Z"
   },
   {
    "duration": 254,
    "start_time": "2022-06-18T13:50:43.956Z"
   },
   {
    "duration": 338,
    "start_time": "2022-06-18T13:50:58.356Z"
   },
   {
    "duration": 33,
    "start_time": "2022-06-18T13:52:05.858Z"
   },
   {
    "duration": 12,
    "start_time": "2022-06-18T14:00:09.527Z"
   },
   {
    "duration": 13,
    "start_time": "2022-06-18T14:01:02.393Z"
   },
   {
    "duration": 3,
    "start_time": "2022-06-18T14:02:55.858Z"
   },
   {
    "duration": 97,
    "start_time": "2022-06-18T14:04:18.488Z"
   },
   {
    "duration": 103,
    "start_time": "2022-06-18T14:04:29.619Z"
   },
   {
    "duration": 11,
    "start_time": "2022-06-18T14:20:26.868Z"
   },
   {
    "duration": 8,
    "start_time": "2022-06-18T14:20:31.924Z"
   },
   {
    "duration": 8,
    "start_time": "2022-06-18T14:20:48.714Z"
   },
   {
    "duration": 10,
    "start_time": "2022-06-18T14:22:39.179Z"
   },
   {
    "duration": 9,
    "start_time": "2022-06-18T14:22:44.359Z"
   },
   {
    "duration": 25,
    "start_time": "2022-06-18T14:27:53.673Z"
   },
   {
    "duration": 31,
    "start_time": "2022-06-18T14:29:16.705Z"
   },
   {
    "duration": 30,
    "start_time": "2022-06-18T14:32:59.426Z"
   },
   {
    "duration": 24,
    "start_time": "2022-06-18T14:34:13.076Z"
   },
   {
    "duration": 15,
    "start_time": "2022-06-18T14:34:42.737Z"
   },
   {
    "duration": 24,
    "start_time": "2022-06-18T14:35:27.952Z"
   },
   {
    "duration": 23,
    "start_time": "2022-06-18T14:37:11.672Z"
   },
   {
    "duration": 25,
    "start_time": "2022-06-18T14:37:44.611Z"
   },
   {
    "duration": 22,
    "start_time": "2022-06-18T14:38:24.378Z"
   },
   {
    "duration": 27,
    "start_time": "2022-06-18T14:38:43.420Z"
   },
   {
    "duration": 24,
    "start_time": "2022-06-18T14:39:08.625Z"
   },
   {
    "duration": 25,
    "start_time": "2022-06-18T14:41:54.439Z"
   },
   {
    "duration": 9,
    "start_time": "2022-06-18T14:42:07.103Z"
   },
   {
    "duration": 22,
    "start_time": "2022-06-18T14:42:11.311Z"
   },
   {
    "duration": 345,
    "start_time": "2022-06-18T14:42:14.235Z"
   },
   {
    "duration": 325,
    "start_time": "2022-06-18T14:42:43.444Z"
   },
   {
    "duration": 7,
    "start_time": "2022-06-18T16:10:08.782Z"
   },
   {
    "duration": 6,
    "start_time": "2022-06-18T16:10:22.780Z"
   },
   {
    "duration": 8,
    "start_time": "2022-06-18T16:12:25.049Z"
   },
   {
    "duration": 8,
    "start_time": "2022-06-18T16:12:36.908Z"
   },
   {
    "duration": 21,
    "start_time": "2022-06-18T16:20:15.399Z"
   },
   {
    "duration": 6,
    "start_time": "2022-06-18T16:20:21.333Z"
   },
   {
    "duration": 6,
    "start_time": "2022-06-18T16:20:50.470Z"
   },
   {
    "duration": 7,
    "start_time": "2022-06-18T16:22:16.588Z"
   },
   {
    "duration": 22,
    "start_time": "2022-06-18T16:22:43.691Z"
   },
   {
    "duration": 27,
    "start_time": "2022-06-18T16:23:14.109Z"
   },
   {
    "duration": 7,
    "start_time": "2022-06-18T16:23:29.073Z"
   },
   {
    "duration": 8,
    "start_time": "2022-06-18T16:23:41.233Z"
   },
   {
    "duration": 7,
    "start_time": "2022-06-18T16:23:54.473Z"
   },
   {
    "duration": 9,
    "start_time": "2022-06-18T16:25:30.119Z"
   },
   {
    "duration": 9,
    "start_time": "2022-06-18T16:25:42.879Z"
   },
   {
    "duration": 8,
    "start_time": "2022-06-18T16:27:18.036Z"
   },
   {
    "duration": 343,
    "start_time": "2022-06-18T16:27:25.948Z"
   },
   {
    "duration": 347,
    "start_time": "2022-06-18T16:27:43.723Z"
   },
   {
    "duration": 9,
    "start_time": "2022-06-18T16:30:49.218Z"
   },
   {
    "duration": 11,
    "start_time": "2022-06-18T16:31:01.972Z"
   },
   {
    "duration": 9,
    "start_time": "2022-06-18T16:31:19.318Z"
   },
   {
    "duration": 11,
    "start_time": "2022-06-18T16:31:39.188Z"
   },
   {
    "duration": 24,
    "start_time": "2022-06-18T16:35:49.967Z"
   },
   {
    "duration": 33,
    "start_time": "2022-06-18T16:36:17.997Z"
   },
   {
    "duration": 24,
    "start_time": "2022-06-18T16:37:18.530Z"
   },
   {
    "duration": 10,
    "start_time": "2022-06-18T16:37:51.739Z"
   },
   {
    "duration": 442,
    "start_time": "2022-06-18T16:42:47.155Z"
   },
   {
    "duration": 20,
    "start_time": "2022-06-18T16:42:47.599Z"
   },
   {
    "duration": 14,
    "start_time": "2022-06-18T16:42:47.620Z"
   },
   {
    "duration": 9,
    "start_time": "2022-06-18T16:42:47.636Z"
   },
   {
    "duration": 41,
    "start_time": "2022-06-18T16:42:47.646Z"
   },
   {
    "duration": 3,
    "start_time": "2022-06-18T16:42:47.689Z"
   },
   {
    "duration": 14,
    "start_time": "2022-06-18T16:42:47.693Z"
   },
   {
    "duration": 17,
    "start_time": "2022-06-18T16:42:47.709Z"
   },
   {
    "duration": 8,
    "start_time": "2022-06-18T16:42:47.728Z"
   },
   {
    "duration": 4,
    "start_time": "2022-06-18T16:42:47.738Z"
   },
   {
    "duration": 37,
    "start_time": "2022-06-18T16:42:47.743Z"
   },
   {
    "duration": 10,
    "start_time": "2022-06-18T16:42:47.781Z"
   },
   {
    "duration": 6,
    "start_time": "2022-06-18T16:42:47.792Z"
   },
   {
    "duration": 38,
    "start_time": "2022-06-18T16:42:47.799Z"
   },
   {
    "duration": 16,
    "start_time": "2022-06-18T16:42:47.838Z"
   },
   {
    "duration": 10,
    "start_time": "2022-06-18T16:42:47.856Z"
   },
   {
    "duration": 6,
    "start_time": "2022-06-18T16:42:47.868Z"
   },
   {
    "duration": 13,
    "start_time": "2022-06-18T16:42:47.875Z"
   },
   {
    "duration": 5,
    "start_time": "2022-06-18T16:42:47.889Z"
   },
   {
    "duration": 4,
    "start_time": "2022-06-18T16:42:47.925Z"
   },
   {
    "duration": 10,
    "start_time": "2022-06-18T16:42:47.930Z"
   },
   {
    "duration": 713,
    "start_time": "2022-06-18T16:42:47.942Z"
   },
   {
    "duration": 14,
    "start_time": "2022-06-18T16:42:48.657Z"
   },
   {
    "duration": 12,
    "start_time": "2022-06-18T16:42:48.672Z"
   },
   {
    "duration": 9,
    "start_time": "2022-06-18T16:42:48.685Z"
   },
   {
    "duration": 6,
    "start_time": "2022-06-18T16:42:48.696Z"
   },
   {
    "duration": 5,
    "start_time": "2022-06-18T16:42:48.703Z"
   },
   {
    "duration": 0,
    "start_time": "2022-06-18T16:42:48.709Z"
   },
   {
    "duration": 0,
    "start_time": "2022-06-18T16:42:48.711Z"
   },
   {
    "duration": 0,
    "start_time": "2022-06-18T16:42:48.712Z"
   },
   {
    "duration": 0,
    "start_time": "2022-06-18T16:42:48.726Z"
   },
   {
    "duration": 0,
    "start_time": "2022-06-18T16:42:48.726Z"
   },
   {
    "duration": 11,
    "start_time": "2022-06-18T16:50:07.753Z"
   },
   {
    "duration": 11,
    "start_time": "2022-06-18T16:50:45.952Z"
   },
   {
    "duration": 35,
    "start_time": "2022-06-18T16:51:59.398Z"
   },
   {
    "duration": 17,
    "start_time": "2022-06-18T16:52:38.525Z"
   },
   {
    "duration": 31,
    "start_time": "2022-06-18T16:53:23.652Z"
   },
   {
    "duration": 99,
    "start_time": "2022-06-18T16:54:04.107Z"
   },
   {
    "duration": 11,
    "start_time": "2022-06-18T16:54:13.353Z"
   },
   {
    "duration": 31,
    "start_time": "2022-06-18T16:54:45.298Z"
   },
   {
    "duration": 23,
    "start_time": "2022-06-18T16:55:11.648Z"
   },
   {
    "duration": 74,
    "start_time": "2022-06-18T16:55:31.073Z"
   },
   {
    "duration": 28,
    "start_time": "2022-06-18T16:55:58.136Z"
   },
   {
    "duration": 17,
    "start_time": "2022-06-18T16:56:39.399Z"
   },
   {
    "duration": 24,
    "start_time": "2022-06-18T16:56:49.887Z"
   },
   {
    "duration": 35,
    "start_time": "2022-06-18T17:03:10.952Z"
   },
   {
    "duration": 30,
    "start_time": "2022-06-18T17:03:34.473Z"
   },
   {
    "duration": 21,
    "start_time": "2022-06-18T17:03:51.987Z"
   },
   {
    "duration": 24,
    "start_time": "2022-06-18T17:04:58.211Z"
   },
   {
    "duration": 10,
    "start_time": "2022-06-18T17:05:17.290Z"
   },
   {
    "duration": 12,
    "start_time": "2022-06-18T17:05:20.076Z"
   },
   {
    "duration": 11,
    "start_time": "2022-06-18T17:09:13.373Z"
   },
   {
    "duration": 8,
    "start_time": "2022-06-18T17:09:25.153Z"
   },
   {
    "duration": 12,
    "start_time": "2022-06-18T17:09:30.792Z"
   },
   {
    "duration": 4,
    "start_time": "2022-06-18T17:09:52.380Z"
   },
   {
    "duration": 4,
    "start_time": "2022-06-18T17:09:59.608Z"
   },
   {
    "duration": 6,
    "start_time": "2022-06-18T17:10:04.000Z"
   },
   {
    "duration": 438,
    "start_time": "2022-06-18T17:12:25.973Z"
   },
   {
    "duration": 13,
    "start_time": "2022-06-18T17:12:44.601Z"
   },
   {
    "duration": 12,
    "start_time": "2022-06-18T17:12:51.124Z"
   },
   {
    "duration": 8,
    "start_time": "2022-06-18T17:12:55.653Z"
   },
   {
    "duration": 456,
    "start_time": "2022-06-18T17:13:03.885Z"
   },
   {
    "duration": 11,
    "start_time": "2022-06-18T17:13:27.252Z"
   },
   {
    "duration": 8,
    "start_time": "2022-06-18T17:13:43.316Z"
   },
   {
    "duration": 370,
    "start_time": "2022-06-18T17:14:07.051Z"
   },
   {
    "duration": 21,
    "start_time": "2022-06-18T17:14:35.618Z"
   },
   {
    "duration": 363,
    "start_time": "2022-06-18T17:15:08.395Z"
   },
   {
    "duration": 488,
    "start_time": "2022-06-18T17:16:26.817Z"
   },
   {
    "duration": 21,
    "start_time": "2022-06-18T17:16:27.307Z"
   },
   {
    "duration": 15,
    "start_time": "2022-06-18T17:16:27.330Z"
   },
   {
    "duration": 10,
    "start_time": "2022-06-18T17:16:27.346Z"
   },
   {
    "duration": 34,
    "start_time": "2022-06-18T17:16:27.357Z"
   },
   {
    "duration": 4,
    "start_time": "2022-06-18T17:16:27.392Z"
   },
   {
    "duration": 29,
    "start_time": "2022-06-18T17:16:27.398Z"
   },
   {
    "duration": 4,
    "start_time": "2022-06-18T17:16:27.429Z"
   },
   {
    "duration": 11,
    "start_time": "2022-06-18T17:16:27.434Z"
   },
   {
    "duration": 5,
    "start_time": "2022-06-18T17:16:27.447Z"
   },
   {
    "duration": 34,
    "start_time": "2022-06-18T17:16:27.453Z"
   },
   {
    "duration": 9,
    "start_time": "2022-06-18T17:16:27.489Z"
   },
   {
    "duration": 4,
    "start_time": "2022-06-18T17:16:27.526Z"
   },
   {
    "duration": 23,
    "start_time": "2022-06-18T17:16:27.532Z"
   },
   {
    "duration": 16,
    "start_time": "2022-06-18T17:16:27.557Z"
   },
   {
    "duration": 12,
    "start_time": "2022-06-18T17:16:27.574Z"
   },
   {
    "duration": 7,
    "start_time": "2022-06-18T17:16:27.588Z"
   },
   {
    "duration": 33,
    "start_time": "2022-06-18T17:16:27.597Z"
   },
   {
    "duration": 8,
    "start_time": "2022-06-18T17:16:27.632Z"
   },
   {
    "duration": 5,
    "start_time": "2022-06-18T17:16:27.642Z"
   },
   {
    "duration": 12,
    "start_time": "2022-06-18T17:16:27.649Z"
   },
   {
    "duration": 683,
    "start_time": "2022-06-18T17:16:27.662Z"
   },
   {
    "duration": 18,
    "start_time": "2022-06-18T17:16:28.346Z"
   },
   {
    "duration": 7,
    "start_time": "2022-06-18T17:16:28.365Z"
   },
   {
    "duration": 9,
    "start_time": "2022-06-18T17:16:28.373Z"
   },
   {
    "duration": 125,
    "start_time": "2022-06-18T17:16:28.383Z"
   },
   {
    "duration": 0,
    "start_time": "2022-06-18T17:16:28.510Z"
   },
   {
    "duration": 0,
    "start_time": "2022-06-18T17:16:28.512Z"
   },
   {
    "duration": 0,
    "start_time": "2022-06-18T17:16:28.513Z"
   },
   {
    "duration": 0,
    "start_time": "2022-06-18T17:16:28.514Z"
   },
   {
    "duration": 9,
    "start_time": "2022-06-18T17:16:55.104Z"
   },
   {
    "duration": 12,
    "start_time": "2022-06-18T17:16:58.993Z"
   },
   {
    "duration": 12,
    "start_time": "2022-06-18T17:18:03.513Z"
   },
   {
    "duration": 373,
    "start_time": "2022-06-18T17:19:10.589Z"
   },
   {
    "duration": 11,
    "start_time": "2022-06-18T17:20:57.078Z"
   },
   {
    "duration": 12,
    "start_time": "2022-06-18T17:21:11.661Z"
   },
   {
    "duration": 13,
    "start_time": "2022-06-18T17:21:42.916Z"
   },
   {
    "duration": 14,
    "start_time": "2022-06-18T18:40:40.465Z"
   },
   {
    "duration": 8,
    "start_time": "2022-06-18T18:40:46.000Z"
   },
   {
    "duration": 14,
    "start_time": "2022-06-18T18:40:50.344Z"
   },
   {
    "duration": 16,
    "start_time": "2022-06-18T18:42:10.030Z"
   },
   {
    "duration": 13,
    "start_time": "2022-06-18T18:42:31.678Z"
   },
   {
    "duration": 14,
    "start_time": "2022-06-18T18:42:36.036Z"
   },
   {
    "duration": 18,
    "start_time": "2022-06-18T18:43:29.221Z"
   },
   {
    "duration": 13,
    "start_time": "2022-06-18T18:44:30.186Z"
   },
   {
    "duration": 22,
    "start_time": "2022-06-18T18:45:00.306Z"
   },
   {
    "duration": 22,
    "start_time": "2022-06-18T18:45:04.625Z"
   },
   {
    "duration": 21,
    "start_time": "2022-06-18T18:45:17.600Z"
   },
   {
    "duration": 13,
    "start_time": "2022-06-18T18:46:13.367Z"
   },
   {
    "duration": 18,
    "start_time": "2022-06-18T18:46:29.919Z"
   },
   {
    "duration": 16,
    "start_time": "2022-06-18T18:46:35.942Z"
   },
   {
    "duration": 14,
    "start_time": "2022-06-18T18:47:02.310Z"
   },
   {
    "duration": 16,
    "start_time": "2022-06-18T18:47:09.997Z"
   },
   {
    "duration": 17,
    "start_time": "2022-06-18T18:47:12.356Z"
   },
   {
    "duration": 19,
    "start_time": "2022-06-18T18:47:28.820Z"
   },
   {
    "duration": 19,
    "start_time": "2022-06-18T18:48:04.499Z"
   },
   {
    "duration": 17,
    "start_time": "2022-06-18T18:48:19.363Z"
   },
   {
    "duration": 15,
    "start_time": "2022-06-18T18:48:26.891Z"
   },
   {
    "duration": 19,
    "start_time": "2022-06-18T19:00:48.624Z"
   },
   {
    "duration": 20,
    "start_time": "2022-06-18T19:01:10.478Z"
   },
   {
    "duration": 16,
    "start_time": "2022-06-18T19:01:19.631Z"
   },
   {
    "duration": 11,
    "start_time": "2022-06-18T19:09:23.788Z"
   },
   {
    "duration": 17,
    "start_time": "2022-06-18T19:11:16.720Z"
   },
   {
    "duration": 19,
    "start_time": "2022-06-18T19:11:26.742Z"
   },
   {
    "duration": 24,
    "start_time": "2022-06-18T19:11:35.837Z"
   },
   {
    "duration": 22,
    "start_time": "2022-06-18T19:11:43.244Z"
   },
   {
    "duration": 4,
    "start_time": "2022-06-18T19:40:45.193Z"
   },
   {
    "duration": 24,
    "start_time": "2022-06-18T19:41:06.991Z"
   },
   {
    "duration": 8,
    "start_time": "2022-06-18T19:53:40.430Z"
   },
   {
    "duration": 27,
    "start_time": "2022-06-18T19:55:42.532Z"
   },
   {
    "duration": 28,
    "start_time": "2022-06-18T19:56:25.491Z"
   },
   {
    "duration": 16,
    "start_time": "2022-06-18T19:57:07.749Z"
   },
   {
    "duration": 26,
    "start_time": "2022-06-18T19:57:49.484Z"
   },
   {
    "duration": 29,
    "start_time": "2022-06-18T19:58:14.977Z"
   },
   {
    "duration": 65,
    "start_time": "2022-06-19T16:18:19.059Z"
   },
   {
    "duration": 8,
    "start_time": "2022-06-19T16:18:54.605Z"
   },
   {
    "duration": 7,
    "start_time": "2022-06-19T16:19:00.097Z"
   },
   {
    "duration": 759,
    "start_time": "2022-06-19T16:19:05.024Z"
   },
   {
    "duration": 28,
    "start_time": "2022-06-19T16:19:05.789Z"
   },
   {
    "duration": 14,
    "start_time": "2022-06-19T16:19:05.819Z"
   },
   {
    "duration": 10,
    "start_time": "2022-06-19T16:19:05.835Z"
   },
   {
    "duration": 45,
    "start_time": "2022-06-19T16:19:05.846Z"
   },
   {
    "duration": 4,
    "start_time": "2022-06-19T16:19:05.897Z"
   },
   {
    "duration": 10,
    "start_time": "2022-06-19T16:19:05.902Z"
   },
   {
    "duration": 4,
    "start_time": "2022-06-19T16:19:05.914Z"
   },
   {
    "duration": 8,
    "start_time": "2022-06-19T16:19:05.919Z"
   },
   {
    "duration": 4,
    "start_time": "2022-06-19T16:19:05.930Z"
   },
   {
    "duration": 66,
    "start_time": "2022-06-19T16:19:05.936Z"
   },
   {
    "duration": 9,
    "start_time": "2022-06-19T16:19:06.004Z"
   },
   {
    "duration": 4,
    "start_time": "2022-06-19T16:19:06.015Z"
   },
   {
    "duration": 24,
    "start_time": "2022-06-19T16:19:06.020Z"
   },
   {
    "duration": 39,
    "start_time": "2022-06-19T16:19:06.045Z"
   },
   {
    "duration": 16,
    "start_time": "2022-06-19T16:19:06.085Z"
   },
   {
    "duration": 3,
    "start_time": "2022-06-19T16:19:06.103Z"
   },
   {
    "duration": 14,
    "start_time": "2022-06-19T16:19:06.108Z"
   },
   {
    "duration": 7,
    "start_time": "2022-06-19T16:19:06.124Z"
   },
   {
    "duration": 5,
    "start_time": "2022-06-19T16:19:06.132Z"
   },
   {
    "duration": 37,
    "start_time": "2022-06-19T16:19:06.138Z"
   },
   {
    "duration": 876,
    "start_time": "2022-06-19T16:19:06.185Z"
   },
   {
    "duration": 24,
    "start_time": "2022-06-19T16:19:07.063Z"
   },
   {
    "duration": 21,
    "start_time": "2022-06-19T16:19:07.089Z"
   },
   {
    "duration": 5,
    "start_time": "2022-06-19T16:19:07.111Z"
   },
   {
    "duration": 4,
    "start_time": "2022-06-19T16:19:07.117Z"
   },
   {
    "duration": 17,
    "start_time": "2022-06-19T16:19:07.123Z"
   },
   {
    "duration": 53,
    "start_time": "2022-06-19T16:19:07.143Z"
   },
   {
    "duration": 24,
    "start_time": "2022-06-19T16:19:07.198Z"
   },
   {
    "duration": 9,
    "start_time": "2022-06-19T16:19:07.223Z"
   },
   {
    "duration": 8,
    "start_time": "2022-06-19T16:19:07.233Z"
   },
   {
    "duration": 125,
    "start_time": "2022-06-19T16:19:45.082Z"
   },
   {
    "duration": 21,
    "start_time": "2022-06-19T16:20:17.890Z"
   },
   {
    "duration": 23,
    "start_time": "2022-06-19T16:22:43.092Z"
   },
   {
    "duration": 27,
    "start_time": "2022-06-19T16:24:31.544Z"
   },
   {
    "duration": 32,
    "start_time": "2022-06-19T16:25:15.600Z"
   },
   {
    "duration": 467,
    "start_time": "2022-06-19T16:27:51.996Z"
   },
   {
    "duration": 53,
    "start_time": "2022-06-19T16:29:22.491Z"
   },
   {
    "duration": 21,
    "start_time": "2022-06-19T16:29:56.725Z"
   },
   {
    "duration": 6,
    "start_time": "2022-06-19T16:30:47.300Z"
   },
   {
    "duration": 11,
    "start_time": "2022-06-19T16:30:56.612Z"
   },
   {
    "duration": 18,
    "start_time": "2022-06-19T16:31:02.494Z"
   },
   {
    "duration": 13,
    "start_time": "2022-06-19T16:31:28.693Z"
   },
   {
    "duration": 18,
    "start_time": "2022-06-19T16:32:20.365Z"
   },
   {
    "duration": 12,
    "start_time": "2022-06-19T16:32:22.935Z"
   },
   {
    "duration": 13,
    "start_time": "2022-06-19T16:32:26.619Z"
   },
   {
    "duration": 13,
    "start_time": "2022-06-19T16:32:30.612Z"
   },
   {
    "duration": 10,
    "start_time": "2022-06-19T16:32:31.821Z"
   },
   {
    "duration": 14,
    "start_time": "2022-06-19T16:34:24.993Z"
   },
   {
    "duration": 21,
    "start_time": "2022-06-19T16:34:34.865Z"
   },
   {
    "duration": 19,
    "start_time": "2022-06-19T16:35:46.858Z"
   },
   {
    "duration": 18,
    "start_time": "2022-06-19T16:36:39.423Z"
   },
   {
    "duration": 9,
    "start_time": "2022-06-19T16:36:49.319Z"
   },
   {
    "duration": 10,
    "start_time": "2022-06-19T16:37:03.878Z"
   },
   {
    "duration": 18,
    "start_time": "2022-06-19T16:37:41.062Z"
   },
   {
    "duration": 6,
    "start_time": "2022-06-19T16:38:57.768Z"
   },
   {
    "duration": 148,
    "start_time": "2022-06-19T16:40:44.017Z"
   },
   {
    "duration": 320,
    "start_time": "2022-06-19T16:41:45.491Z"
   },
   {
    "duration": 315,
    "start_time": "2022-06-19T16:42:33.852Z"
   },
   {
    "duration": 20,
    "start_time": "2022-06-19T16:43:18.090Z"
   },
   {
    "duration": 16,
    "start_time": "2022-06-19T16:43:30.949Z"
   },
   {
    "duration": 15,
    "start_time": "2022-06-19T16:43:46.011Z"
   },
   {
    "duration": 355,
    "start_time": "2022-06-19T16:44:47.442Z"
   },
   {
    "duration": 589,
    "start_time": "2022-06-19T16:45:59.004Z"
   },
   {
    "duration": 368,
    "start_time": "2022-06-19T16:46:03.107Z"
   },
   {
    "duration": 370,
    "start_time": "2022-06-19T16:46:27.458Z"
   },
   {
    "duration": 22,
    "start_time": "2022-06-19T16:47:20.277Z"
   },
   {
    "duration": 22,
    "start_time": "2022-06-19T16:47:28.515Z"
   },
   {
    "duration": 14,
    "start_time": "2022-06-19T16:55:34.512Z"
   },
   {
    "duration": 13,
    "start_time": "2022-06-19T16:57:54.215Z"
   },
   {
    "duration": 13,
    "start_time": "2022-06-19T16:57:58.559Z"
   },
   {
    "duration": 13,
    "start_time": "2022-06-19T16:58:00.615Z"
   },
   {
    "duration": 16,
    "start_time": "2022-06-19T16:59:35.088Z"
   },
   {
    "duration": 42,
    "start_time": "2022-06-19T16:59:52.298Z"
   },
   {
    "duration": 24,
    "start_time": "2022-06-19T17:02:04.339Z"
   },
   {
    "duration": 19,
    "start_time": "2022-06-19T17:02:09.707Z"
   },
   {
    "duration": 14,
    "start_time": "2022-06-19T17:04:09.532Z"
   },
   {
    "duration": 20,
    "start_time": "2022-06-19T17:04:50.430Z"
   },
   {
    "duration": 12,
    "start_time": "2022-06-19T17:50:19.678Z"
   },
   {
    "duration": 17,
    "start_time": "2022-06-19T17:52:05.538Z"
   },
   {
    "duration": 28,
    "start_time": "2022-06-19T17:52:10.786Z"
   },
   {
    "duration": 21,
    "start_time": "2022-06-19T17:52:24.938Z"
   },
   {
    "duration": 15,
    "start_time": "2022-06-19T17:52:27.282Z"
   },
   {
    "duration": 15,
    "start_time": "2022-06-19T17:53:42.478Z"
   },
   {
    "duration": 8,
    "start_time": "2022-06-19T17:53:47.608Z"
   },
   {
    "duration": 20,
    "start_time": "2022-06-19T17:54:05.899Z"
   },
   {
    "duration": 336,
    "start_time": "2022-06-19T17:54:07.651Z"
   },
   {
    "duration": 23,
    "start_time": "2022-06-19T17:54:16.997Z"
   },
   {
    "duration": 44,
    "start_time": "2022-06-20T10:28:12.612Z"
   },
   {
    "duration": 7,
    "start_time": "2022-06-20T10:28:15.706Z"
   },
   {
    "duration": 7,
    "start_time": "2022-06-20T10:28:20.859Z"
   },
   {
    "duration": 718,
    "start_time": "2022-06-20T10:28:36.891Z"
   },
   {
    "duration": 27,
    "start_time": "2022-06-20T10:28:37.611Z"
   },
   {
    "duration": 24,
    "start_time": "2022-06-20T10:28:37.640Z"
   },
   {
    "duration": 22,
    "start_time": "2022-06-20T10:28:37.666Z"
   },
   {
    "duration": 39,
    "start_time": "2022-06-20T10:28:37.690Z"
   },
   {
    "duration": 4,
    "start_time": "2022-06-20T10:28:37.732Z"
   },
   {
    "duration": 10,
    "start_time": "2022-06-20T10:28:37.738Z"
   },
   {
    "duration": 4,
    "start_time": "2022-06-20T10:28:37.759Z"
   },
   {
    "duration": 9,
    "start_time": "2022-06-20T10:28:37.765Z"
   },
   {
    "duration": 4,
    "start_time": "2022-06-20T10:28:37.777Z"
   },
   {
    "duration": 38,
    "start_time": "2022-06-20T10:28:37.782Z"
   },
   {
    "duration": 10,
    "start_time": "2022-06-20T10:28:37.822Z"
   },
   {
    "duration": 29,
    "start_time": "2022-06-20T10:28:37.833Z"
   },
   {
    "duration": 25,
    "start_time": "2022-06-20T10:28:37.864Z"
   },
   {
    "duration": 15,
    "start_time": "2022-06-20T10:28:37.890Z"
   },
   {
    "duration": 11,
    "start_time": "2022-06-20T10:28:37.907Z"
   },
   {
    "duration": 10,
    "start_time": "2022-06-20T10:28:37.919Z"
   },
   {
    "duration": 31,
    "start_time": "2022-06-20T10:28:37.931Z"
   },
   {
    "duration": 12,
    "start_time": "2022-06-20T10:28:37.964Z"
   },
   {
    "duration": 4,
    "start_time": "2022-06-20T10:28:37.977Z"
   },
   {
    "duration": 20,
    "start_time": "2022-06-20T10:28:37.983Z"
   },
   {
    "duration": 830,
    "start_time": "2022-06-20T10:28:38.005Z"
   },
   {
    "duration": 25,
    "start_time": "2022-06-20T10:28:38.837Z"
   },
   {
    "duration": 47,
    "start_time": "2022-06-20T10:28:38.864Z"
   },
   {
    "duration": 0,
    "start_time": "2022-06-20T10:28:38.913Z"
   },
   {
    "duration": 0,
    "start_time": "2022-06-20T10:28:38.914Z"
   },
   {
    "duration": 0,
    "start_time": "2022-06-20T10:28:38.915Z"
   },
   {
    "duration": 0,
    "start_time": "2022-06-20T10:28:38.916Z"
   },
   {
    "duration": 0,
    "start_time": "2022-06-20T10:28:38.917Z"
   },
   {
    "duration": 0,
    "start_time": "2022-06-20T10:28:38.918Z"
   },
   {
    "duration": 0,
    "start_time": "2022-06-20T10:28:38.919Z"
   },
   {
    "duration": 0,
    "start_time": "2022-06-20T10:28:38.920Z"
   },
   {
    "duration": 0,
    "start_time": "2022-06-20T10:28:38.921Z"
   },
   {
    "duration": 0,
    "start_time": "2022-06-20T10:28:38.922Z"
   },
   {
    "duration": 0,
    "start_time": "2022-06-20T10:28:38.923Z"
   },
   {
    "duration": 55,
    "start_time": "2022-06-20T10:29:16.567Z"
   },
   {
    "duration": 44,
    "start_time": "2022-06-20T10:29:35.781Z"
   },
   {
    "duration": 3,
    "start_time": "2022-06-20T10:29:44.323Z"
   },
   {
    "duration": 70,
    "start_time": "2022-06-20T10:30:29.161Z"
   },
   {
    "duration": 46,
    "start_time": "2022-06-20T10:30:51.140Z"
   },
   {
    "duration": 19,
    "start_time": "2022-06-20T10:31:07.160Z"
   },
   {
    "duration": 13,
    "start_time": "2022-06-20T10:31:33.710Z"
   },
   {
    "duration": 52,
    "start_time": "2022-06-20T10:33:13.744Z"
   },
   {
    "duration": 49,
    "start_time": "2022-06-20T10:33:45.055Z"
   },
   {
    "duration": 7,
    "start_time": "2022-06-20T10:34:08.314Z"
   },
   {
    "duration": 8,
    "start_time": "2022-06-20T10:34:19.192Z"
   },
   {
    "duration": 12,
    "start_time": "2022-06-20T10:34:20.200Z"
   },
   {
    "duration": 21,
    "start_time": "2022-06-20T10:35:55.371Z"
   },
   {
    "duration": 19,
    "start_time": "2022-06-20T10:36:12.402Z"
   },
   {
    "duration": 18,
    "start_time": "2022-06-20T10:43:47.618Z"
   },
   {
    "duration": 20,
    "start_time": "2022-06-20T10:43:55.060Z"
   },
   {
    "duration": 10,
    "start_time": "2022-06-20T10:51:26.336Z"
   },
   {
    "duration": 14,
    "start_time": "2022-06-20T10:53:04.704Z"
   },
   {
    "duration": 95,
    "start_time": "2022-06-20T10:53:07.497Z"
   },
   {
    "duration": 16,
    "start_time": "2022-06-20T10:54:19.192Z"
   },
   {
    "duration": 11,
    "start_time": "2022-06-20T10:54:30.001Z"
   },
   {
    "duration": 19,
    "start_time": "2022-06-20T10:54:38.161Z"
   },
   {
    "duration": 9,
    "start_time": "2022-06-20T10:55:04.219Z"
   },
   {
    "duration": 13,
    "start_time": "2022-06-20T10:55:18.841Z"
   },
   {
    "duration": 10,
    "start_time": "2022-06-20T10:55:20.122Z"
   },
   {
    "duration": 13,
    "start_time": "2022-06-20T10:57:26.401Z"
   },
   {
    "duration": 10,
    "start_time": "2022-06-20T10:57:27.593Z"
   },
   {
    "duration": 11,
    "start_time": "2022-06-20T11:11:54.221Z"
   },
   {
    "duration": 117,
    "start_time": "2022-06-20T11:13:47.910Z"
   },
   {
    "duration": 1299,
    "start_time": "2022-06-20T11:15:10.870Z"
   },
   {
    "duration": 102,
    "start_time": "2022-06-20T11:15:21.739Z"
   },
   {
    "duration": 1720,
    "start_time": "2022-06-20T11:15:55.303Z"
   },
   {
    "duration": 126,
    "start_time": "2022-06-20T11:16:04.803Z"
   },
   {
    "duration": 103,
    "start_time": "2022-06-20T11:16:44.801Z"
   },
   {
    "duration": 125,
    "start_time": "2022-06-20T11:16:59.417Z"
   },
   {
    "duration": 9,
    "start_time": "2022-06-20T11:17:29.816Z"
   },
   {
    "duration": 130,
    "start_time": "2022-06-20T11:17:43.744Z"
   },
   {
    "duration": 80,
    "start_time": "2022-06-20T11:18:09.954Z"
   },
   {
    "duration": 119,
    "start_time": "2022-06-20T11:18:16.977Z"
   },
   {
    "duration": 1198,
    "start_time": "2022-06-20T11:18:53.602Z"
   },
   {
    "duration": 116,
    "start_time": "2022-06-20T11:19:06.362Z"
   },
   {
    "duration": 38,
    "start_time": "2022-06-20T11:31:18.650Z"
   },
   {
    "duration": 2,
    "start_time": "2022-06-20T11:32:36.868Z"
   },
   {
    "duration": 38,
    "start_time": "2022-06-20T11:33:35.301Z"
   },
   {
    "duration": 26,
    "start_time": "2022-06-20T11:46:22.238Z"
   },
   {
    "duration": 40,
    "start_time": "2022-06-20T11:46:26.038Z"
   },
   {
    "duration": 2,
    "start_time": "2022-06-20T12:05:38.789Z"
   },
   {
    "duration": 749,
    "start_time": "2022-06-20T19:26:30.538Z"
   },
   {
    "duration": 23,
    "start_time": "2022-06-20T19:26:31.290Z"
   },
   {
    "duration": 27,
    "start_time": "2022-06-20T19:26:31.314Z"
   },
   {
    "duration": 21,
    "start_time": "2022-06-20T19:26:31.342Z"
   },
   {
    "duration": 56,
    "start_time": "2022-06-20T19:26:31.365Z"
   },
   {
    "duration": 3,
    "start_time": "2022-06-20T19:26:31.423Z"
   },
   {
    "duration": 31,
    "start_time": "2022-06-20T19:26:31.428Z"
   },
   {
    "duration": 13,
    "start_time": "2022-06-20T19:26:31.460Z"
   },
   {
    "duration": 28,
    "start_time": "2022-06-20T19:26:31.475Z"
   },
   {
    "duration": 31,
    "start_time": "2022-06-20T19:26:31.505Z"
   },
   {
    "duration": 63,
    "start_time": "2022-06-20T19:26:31.538Z"
   },
   {
    "duration": 10,
    "start_time": "2022-06-20T19:26:31.603Z"
   },
   {
    "duration": 16,
    "start_time": "2022-06-20T19:26:31.615Z"
   },
   {
    "duration": 26,
    "start_time": "2022-06-20T19:26:31.635Z"
   },
   {
    "duration": 18,
    "start_time": "2022-06-20T19:26:31.663Z"
   },
   {
    "duration": 12,
    "start_time": "2022-06-20T19:26:31.683Z"
   },
   {
    "duration": 6,
    "start_time": "2022-06-20T19:26:31.696Z"
   },
   {
    "duration": 28,
    "start_time": "2022-06-20T19:26:31.704Z"
   },
   {
    "duration": 6,
    "start_time": "2022-06-20T19:26:31.734Z"
   },
   {
    "duration": 7,
    "start_time": "2022-06-20T19:26:31.742Z"
   },
   {
    "duration": 13,
    "start_time": "2022-06-20T19:26:31.750Z"
   },
   {
    "duration": 6,
    "start_time": "2022-06-20T19:26:31.765Z"
   },
   {
    "duration": 23,
    "start_time": "2022-06-20T19:26:31.772Z"
   },
   {
    "duration": 30,
    "start_time": "2022-06-20T19:26:31.797Z"
   },
   {
    "duration": 25,
    "start_time": "2022-06-20T19:26:31.829Z"
   },
   {
    "duration": 33,
    "start_time": "2022-06-20T19:26:31.856Z"
   },
   {
    "duration": 37,
    "start_time": "2022-06-20T19:26:31.891Z"
   },
   {
    "duration": 25,
    "start_time": "2022-06-20T19:26:31.930Z"
   },
   {
    "duration": 30,
    "start_time": "2022-06-20T19:26:31.961Z"
   },
   {
    "duration": 15,
    "start_time": "2022-06-20T19:26:31.993Z"
   },
   {
    "duration": 29,
    "start_time": "2022-06-20T19:26:32.010Z"
   },
   {
    "duration": 12,
    "start_time": "2022-06-20T19:26:32.041Z"
   },
   {
    "duration": 12,
    "start_time": "2022-06-20T19:26:32.055Z"
   },
   {
    "duration": 88,
    "start_time": "2022-06-21T08:10:50.175Z"
   },
   {
    "duration": 47,
    "start_time": "2022-07-05T10:48:59.171Z"
   },
   {
    "duration": 514,
    "start_time": "2022-07-05T10:49:04.826Z"
   },
   {
    "duration": 23,
    "start_time": "2022-07-05T10:49:05.342Z"
   },
   {
    "duration": 16,
    "start_time": "2022-07-05T10:49:05.367Z"
   },
   {
    "duration": 9,
    "start_time": "2022-07-05T10:49:05.385Z"
   },
   {
    "duration": 65,
    "start_time": "2022-07-05T10:49:05.397Z"
   },
   {
    "duration": 4,
    "start_time": "2022-07-05T10:49:05.464Z"
   },
   {
    "duration": 13,
    "start_time": "2022-07-05T10:49:05.470Z"
   },
   {
    "duration": 6,
    "start_time": "2022-07-05T10:49:05.484Z"
   },
   {
    "duration": 10,
    "start_time": "2022-07-05T10:49:05.491Z"
   },
   {
    "duration": 4,
    "start_time": "2022-07-05T10:49:05.503Z"
   },
   {
    "duration": 59,
    "start_time": "2022-07-05T10:49:05.509Z"
   },
   {
    "duration": 8,
    "start_time": "2022-07-05T10:49:05.570Z"
   },
   {
    "duration": 5,
    "start_time": "2022-07-05T10:49:05.580Z"
   },
   {
    "duration": 23,
    "start_time": "2022-07-05T10:49:05.587Z"
   },
   {
    "duration": 43,
    "start_time": "2022-07-05T10:49:05.612Z"
   },
   {
    "duration": 11,
    "start_time": "2022-07-05T10:49:05.657Z"
   },
   {
    "duration": 5,
    "start_time": "2022-07-05T10:49:05.670Z"
   },
   {
    "duration": 12,
    "start_time": "2022-07-05T10:49:05.676Z"
   },
   {
    "duration": 23,
    "start_time": "2022-07-05T10:49:05.690Z"
   },
   {
    "duration": 5,
    "start_time": "2022-07-05T10:49:05.715Z"
   },
   {
    "duration": 11,
    "start_time": "2022-07-05T10:49:05.722Z"
   },
   {
    "duration": 7,
    "start_time": "2022-07-05T10:49:05.735Z"
   },
   {
    "duration": 24,
    "start_time": "2022-07-05T10:49:05.744Z"
   },
   {
    "duration": 7,
    "start_time": "2022-07-05T10:49:05.770Z"
   },
   {
    "duration": 22,
    "start_time": "2022-07-05T10:49:05.779Z"
   },
   {
    "duration": 28,
    "start_time": "2022-07-05T10:49:05.803Z"
   },
   {
    "duration": 27,
    "start_time": "2022-07-05T10:49:05.833Z"
   },
   {
    "duration": 22,
    "start_time": "2022-07-05T10:49:05.861Z"
   },
   {
    "duration": 17,
    "start_time": "2022-07-05T10:49:05.885Z"
   },
   {
    "duration": 40,
    "start_time": "2022-07-05T10:49:05.903Z"
   },
   {
    "duration": 19,
    "start_time": "2022-07-05T10:49:05.945Z"
   },
   {
    "duration": 12,
    "start_time": "2022-07-05T10:49:05.965Z"
   },
   {
    "duration": 10,
    "start_time": "2022-07-05T10:49:05.978Z"
   },
   {
    "duration": 39,
    "start_time": "2022-07-05T13:59:37.269Z"
   }
  ],
  "colab": {
   "name": "dpp_template_part2.ipynb",
   "provenance": []
  },
  "kernelspec": {
   "display_name": "Python 3.10.5 64-bit",
   "language": "python",
   "name": "python3"
  },
  "language_info": {
   "codemirror_mode": {
    "name": "ipython",
    "version": 3
   },
   "file_extension": ".py",
   "mimetype": "text/x-python",
   "name": "python",
   "nbconvert_exporter": "python",
   "pygments_lexer": "ipython3",
   "version": "3.10.5"
  },
  "toc": {
   "base_numbering": 1,
   "nav_menu": {
    "height": "298.984px",
    "width": "310px"
   },
   "number_sections": true,
   "sideBar": true,
   "skip_h1_title": true,
   "title_cell": "Table of Contents",
   "title_sidebar": "Contents",
   "toc_cell": false,
   "toc_position": {
    "height": "calc(100% - 180px)",
    "left": "10px",
    "top": "150px",
    "width": "322.727px"
   },
   "toc_section_display": true,
   "toc_window_display": true
  },
  "vscode": {
   "interpreter": {
    "hash": "bcd2fd994b693308172e61584a476fd440b243f4fb231415ed46476d44775ddc"
   }
  }
 },
 "nbformat": 4,
 "nbformat_minor": 5
}
